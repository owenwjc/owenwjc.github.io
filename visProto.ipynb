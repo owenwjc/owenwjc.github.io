{
 "metadata": {
  "language_info": {
   "codemirror_mode": {
    "name": "ipython",
    "version": 3
   },
   "file_extension": ".py",
   "mimetype": "text/x-python",
   "name": "python",
   "nbconvert_exporter": "python",
   "pygments_lexer": "ipython3",
   "version": "3.8.5-final"
  },
  "orig_nbformat": 2,
  "kernelspec": {
   "name": "python3",
   "display_name": "Python 3.8.5 64-bit ('base': conda)",
   "metadata": {
    "interpreter": {
     "hash": "34e8fc32436ce365501cba790e25a8b100775edfa54701b9b602bd66f962431f"
    }
   }
  }
 },
 "nbformat": 4,
 "nbformat_minor": 2,
 "cells": [
  {
   "cell_type": "code",
   "execution_count": 1,
   "metadata": {},
   "outputs": [],
   "source": [
    "import pandas as pd\n",
    "import pymongo\n",
    "from pymongo import MongoClient\n",
    "import json"
   ]
  },
  {
   "cell_type": "code",
   "execution_count": 2,
   "metadata": {},
   "outputs": [],
   "source": [
    "client = MongoClient('localhost', 27017)\n",
    "db = client.db\n",
    "comments = db.comments"
   ]
  },
  {
   "cell_type": "code",
   "execution_count": 3,
   "metadata": {},
   "outputs": [],
   "source": [
    "commentdf = pd.DataFrame(comments.find())"
   ]
  },
  {
   "cell_type": "code",
   "execution_count": 4,
   "metadata": {},
   "outputs": [],
   "source": [
    "def string_to_list(string):\n",
    "    return json.loads(string)\n",
    "\n",
    "def get_len(list):\n",
    "    return len(list)"
   ]
  },
  {
   "cell_type": "code",
   "execution_count": 5,
   "metadata": {},
   "outputs": [],
   "source": [
    "commentdf['stocks'] = commentdf['stocks'].apply(string_to_list)"
   ]
  },
  {
   "cell_type": "code",
   "execution_count": 6,
   "metadata": {},
   "outputs": [],
   "source": [
    "commentdf['size'] = commentdf['stocks'].apply(get_len)"
   ]
  },
  {
   "cell_type": "code",
   "execution_count": 7,
   "metadata": {},
   "outputs": [],
   "source": [
    "stockdf = commentdf.loc[commentdf['size'] != 0]"
   ]
  },
  {
   "cell_type": "code",
   "execution_count": 8,
   "metadata": {},
   "outputs": [],
   "source": [
    "from sklearn.preprocessing import MultiLabelBinarizer\n",
    "s = stockdf['stocks']\n",
    "mlb = MultiLabelBinarizer()\n",
    "onehotdf = pd.DataFrame(mlb.fit_transform(s), columns = mlb.classes_, index = stockdf.index)\n",
    "\n",
    "connectionsdict = onehotdf.sum(axis = 1).to_dict()\n",
    "connectionsdict = {k:v for k, v in connectionsdict.items() if v != 1}\n",
    "\n",
    "onehotdf = onehotdf[onehotdf.index.isin(connectionsdict.keys())]\n",
    "\n",
    "chorddict = onehotdf.sum(axis = 0).to_dict()\n",
    "chorddict = {key:val for key, val in chorddict.items() if val > 0}\n",
    "\n",
    "nonMatrix = ['NaN', 'ACB', 'ALL', 'AM', 'AN', 'ANY', 'AONE', 'APT', 'AT', 'BB', 'BE', 'BEST', 'BIG', 'BILL', 'BOX', 'BRO', 'BY', 'CEO', 'DNOW', 'ET', 'EVER', 'FDS', 'FL', 'FOR', 'FREE', 'GDP', 'GL', 'HAS', 'HD', 'HE', 'HOME', 'HOPE', 'IQ', 'JP', 'KIM', 'LIFE', 'LIVE', 'LL', 'LOW', 'MAN', 'NEXT', 'NOW', 'OI', 'ONE', 'OUT', 'PLAN', 'PLAY', 'PM', 'PPT', 'PUMP', 'RE', 'REAL', 'RH', 'RTX', 'RUN', 'SAVE', 'SE', 'SGU', 'SO', 'SPXC', 'STAR          ', 'STAY', 'TDA', 'TEAM', 'TECH', 'TELL', 'TIMB$', 'TISI', 'TV', 'TWO', 'UI', 'TD', 'GLG']\n",
    "\n",
    "take_or = lambda x, y: x if x >= y else y\n",
    "onehotdf['BRK'] = onehotdf['BRK.A'].combine(onehotdf['BRK.B'], take_or)\n",
    "onehotdf.drop(columns = ['BRK.A', 'BRK.B'], inplace = True)\n",
    "onehotdf['GOOG'] = onehotdf['GOOG'].combine(onehotdf['GOOGL'], take_or)\n",
    "onehotdf.drop(columns = ['GOOG', 'GOOGL'], inplace = True)\n",
    "\n",
    "onehotdf.drop(columns = nonMatrix, inplace = True)\n",
    "\n",
    "chorddict = onehotdf.sum(axis = 0).to_dict()\n",
    "chorddict = {key:val for key, val in chorddict.items() if val > 100}\n",
    "\n",
    "chorddf = onehotdf[chorddict.keys()]\n",
    "\n",
    "chorddf = chorddf.T\n",
    "testdict = chorddf.dot(chorddf.T).sum().sort_values().to_dict()\n",
    "\n",
    "names = list(testdict.keys())[113:]\n",
    "chorddf = onehotdf[names]\n",
    "\n",
    "matrix = chorddf.corr()\n",
    "\n",
    "matrix[matrix < 0] = 0\n",
    "matrix[matrix == 1] = 0\n",
    "matrix = matrix.values.tolist()"
   ]
  },
  {
   "cell_type": "code",
   "execution_count": 9,
   "metadata": {},
   "outputs": [],
   "source": [
    "from chord import Chord\n",
    "#Chord(matrix, names).to_html()"
   ]
  },
  {
   "cell_type": "code",
   "execution_count": 10,
   "metadata": {},
   "outputs": [],
   "source": [
    "from sklearn.preprocessing import MultiLabelBinarizer\n",
    "s = stockdf['stocks']\n",
    "mlb = MultiLabelBinarizer()\n",
    "onehotdf = pd.DataFrame(mlb.fit_transform(s), columns = mlb.classes_, index = stockdf.index)"
   ]
  },
  {
   "cell_type": "code",
   "execution_count": 11,
   "metadata": {},
   "outputs": [],
   "source": [
    "connectionsdict = onehotdf.sum(axis = 1).to_dict()\n",
    "connectionsdict = {k:v for k, v in connectionsdict.items() if v != 1}\n",
    "\n",
    "onehotdf = onehotdf[onehotdf.index.isin(connectionsdict.keys())]"
   ]
  },
  {
   "cell_type": "code",
   "execution_count": 12,
   "metadata": {},
   "outputs": [],
   "source": [
    "companydict = onehotdf.sum(axis = 0).to_dict()\n",
    "companydict = {k:v for k, v in companydict.items() if v == 0}\n",
    "\n",
    "onehotdf.drop(columns = companydict.keys(), inplace = True)"
   ]
  },
  {
   "cell_type": "code",
   "execution_count": 13,
   "metadata": {},
   "outputs": [],
   "source": [
    "onehotdf = onehotdf.T"
   ]
  },
  {
   "cell_type": "code",
   "execution_count": 14,
   "metadata": {},
   "outputs": [
    {
     "output_type": "execute_result",
     "data": {
      "text/plain": [
       "      52       56       67       73       91       157      323      377      \\\n",
       "AAL         0        0        0        0        0        0        0        0   \n",
       "AAPL        0        0        0        1        0        0        0        0   \n",
       "AAXN        0        0        0        0        0        0        0        0   \n",
       "ABT         0        0        0        0        0        0        0        0   \n",
       "ACB         0        0        0        0        0        0        0        0   \n",
       "...       ...      ...      ...      ...      ...      ...      ...      ...   \n",
       "XOM         0        0        0        0        0        0        0        0   \n",
       "Z           0        0        0        0        0        0        0        0   \n",
       "ZM          0        0        0        0        0        0        0        0   \n",
       "ZNGA        0        0        0        0        0        0        0        0   \n",
       "ZS          0        0        0        0        0        0        0        0   \n",
       "\n",
       "      387      403      ...  2392139  2392197  2392242  2392254  2392328  \\\n",
       "AAL         0        0  ...        1        0        0        0        0   \n",
       "AAPL        0        0  ...        0        0        0        0        0   \n",
       "AAXN        0        0  ...        0        0        0        0        0   \n",
       "ABT         0        0  ...        0        0        0        0        0   \n",
       "ACB         0        0  ...        0        0        0        0        0   \n",
       "...       ...      ...  ...      ...      ...      ...      ...      ...   \n",
       "XOM         0        0  ...        0        0        0        0        0   \n",
       "Z           0        0  ...        0        0        0        0        0   \n",
       "ZM          0        0  ...        0        0        0        0        0   \n",
       "ZNGA        0        0  ...        0        0        0        0        0   \n",
       "ZS          0        0  ...        0        0        0        0        0   \n",
       "\n",
       "      2392344  2392413  2392510  2392539  2392573  \n",
       "AAL         0        0        0        0        0  \n",
       "AAPL        1        0        0        0        1  \n",
       "AAXN        0        0        0        0        0  \n",
       "ABT         0        0        0        0        0  \n",
       "ACB         0        0        0        0        0  \n",
       "...       ...      ...      ...      ...      ...  \n",
       "XOM         0        0        0        0        0  \n",
       "Z           0        0        0        0        0  \n",
       "ZM          0        0        0        0        0  \n",
       "ZNGA        0        0        0        0        0  \n",
       "ZS          0        0        0        0        0  \n",
       "\n",
       "[367 rows x 61541 columns]"
      ],
      "text/html": "<div>\n<style scoped>\n    .dataframe tbody tr th:only-of-type {\n        vertical-align: middle;\n    }\n\n    .dataframe tbody tr th {\n        vertical-align: top;\n    }\n\n    .dataframe thead th {\n        text-align: right;\n    }\n</style>\n<table border=\"1\" class=\"dataframe\">\n  <thead>\n    <tr style=\"text-align: right;\">\n      <th></th>\n      <th>52</th>\n      <th>56</th>\n      <th>67</th>\n      <th>73</th>\n      <th>91</th>\n      <th>157</th>\n      <th>323</th>\n      <th>377</th>\n      <th>387</th>\n      <th>403</th>\n      <th>...</th>\n      <th>2392139</th>\n      <th>2392197</th>\n      <th>2392242</th>\n      <th>2392254</th>\n      <th>2392328</th>\n      <th>2392344</th>\n      <th>2392413</th>\n      <th>2392510</th>\n      <th>2392539</th>\n      <th>2392573</th>\n    </tr>\n  </thead>\n  <tbody>\n    <tr>\n      <th>AAL</th>\n      <td>0</td>\n      <td>0</td>\n      <td>0</td>\n      <td>0</td>\n      <td>0</td>\n      <td>0</td>\n      <td>0</td>\n      <td>0</td>\n      <td>0</td>\n      <td>0</td>\n      <td>...</td>\n      <td>1</td>\n      <td>0</td>\n      <td>0</td>\n      <td>0</td>\n      <td>0</td>\n      <td>0</td>\n      <td>0</td>\n      <td>0</td>\n      <td>0</td>\n      <td>0</td>\n    </tr>\n    <tr>\n      <th>AAPL</th>\n      <td>0</td>\n      <td>0</td>\n      <td>0</td>\n      <td>1</td>\n      <td>0</td>\n      <td>0</td>\n      <td>0</td>\n      <td>0</td>\n      <td>0</td>\n      <td>0</td>\n      <td>...</td>\n      <td>0</td>\n      <td>0</td>\n      <td>0</td>\n      <td>0</td>\n      <td>0</td>\n      <td>1</td>\n      <td>0</td>\n      <td>0</td>\n      <td>0</td>\n      <td>1</td>\n    </tr>\n    <tr>\n      <th>AAXN</th>\n      <td>0</td>\n      <td>0</td>\n      <td>0</td>\n      <td>0</td>\n      <td>0</td>\n      <td>0</td>\n      <td>0</td>\n      <td>0</td>\n      <td>0</td>\n      <td>0</td>\n      <td>...</td>\n      <td>0</td>\n      <td>0</td>\n      <td>0</td>\n      <td>0</td>\n      <td>0</td>\n      <td>0</td>\n      <td>0</td>\n      <td>0</td>\n      <td>0</td>\n      <td>0</td>\n    </tr>\n    <tr>\n      <th>ABT</th>\n      <td>0</td>\n      <td>0</td>\n      <td>0</td>\n      <td>0</td>\n      <td>0</td>\n      <td>0</td>\n      <td>0</td>\n      <td>0</td>\n      <td>0</td>\n      <td>0</td>\n      <td>...</td>\n      <td>0</td>\n      <td>0</td>\n      <td>0</td>\n      <td>0</td>\n      <td>0</td>\n      <td>0</td>\n      <td>0</td>\n      <td>0</td>\n      <td>0</td>\n      <td>0</td>\n    </tr>\n    <tr>\n      <th>ACB</th>\n      <td>0</td>\n      <td>0</td>\n      <td>0</td>\n      <td>0</td>\n      <td>0</td>\n      <td>0</td>\n      <td>0</td>\n      <td>0</td>\n      <td>0</td>\n      <td>0</td>\n      <td>...</td>\n      <td>0</td>\n      <td>0</td>\n      <td>0</td>\n      <td>0</td>\n      <td>0</td>\n      <td>0</td>\n      <td>0</td>\n      <td>0</td>\n      <td>0</td>\n      <td>0</td>\n    </tr>\n    <tr>\n      <th>...</th>\n      <td>...</td>\n      <td>...</td>\n      <td>...</td>\n      <td>...</td>\n      <td>...</td>\n      <td>...</td>\n      <td>...</td>\n      <td>...</td>\n      <td>...</td>\n      <td>...</td>\n      <td>...</td>\n      <td>...</td>\n      <td>...</td>\n      <td>...</td>\n      <td>...</td>\n      <td>...</td>\n      <td>...</td>\n      <td>...</td>\n      <td>...</td>\n      <td>...</td>\n      <td>...</td>\n    </tr>\n    <tr>\n      <th>XOM</th>\n      <td>0</td>\n      <td>0</td>\n      <td>0</td>\n      <td>0</td>\n      <td>0</td>\n      <td>0</td>\n      <td>0</td>\n      <td>0</td>\n      <td>0</td>\n      <td>0</td>\n      <td>...</td>\n      <td>0</td>\n      <td>0</td>\n      <td>0</td>\n      <td>0</td>\n      <td>0</td>\n      <td>0</td>\n      <td>0</td>\n      <td>0</td>\n      <td>0</td>\n      <td>0</td>\n    </tr>\n    <tr>\n      <th>Z</th>\n      <td>0</td>\n      <td>0</td>\n      <td>0</td>\n      <td>0</td>\n      <td>0</td>\n      <td>0</td>\n      <td>0</td>\n      <td>0</td>\n      <td>0</td>\n      <td>0</td>\n      <td>...</td>\n      <td>0</td>\n      <td>0</td>\n      <td>0</td>\n      <td>0</td>\n      <td>0</td>\n      <td>0</td>\n      <td>0</td>\n      <td>0</td>\n      <td>0</td>\n      <td>0</td>\n    </tr>\n    <tr>\n      <th>ZM</th>\n      <td>0</td>\n      <td>0</td>\n      <td>0</td>\n      <td>0</td>\n      <td>0</td>\n      <td>0</td>\n      <td>0</td>\n      <td>0</td>\n      <td>0</td>\n      <td>0</td>\n      <td>...</td>\n      <td>0</td>\n      <td>0</td>\n      <td>0</td>\n      <td>0</td>\n      <td>0</td>\n      <td>0</td>\n      <td>0</td>\n      <td>0</td>\n      <td>0</td>\n      <td>0</td>\n    </tr>\n    <tr>\n      <th>ZNGA</th>\n      <td>0</td>\n      <td>0</td>\n      <td>0</td>\n      <td>0</td>\n      <td>0</td>\n      <td>0</td>\n      <td>0</td>\n      <td>0</td>\n      <td>0</td>\n      <td>0</td>\n      <td>...</td>\n      <td>0</td>\n      <td>0</td>\n      <td>0</td>\n      <td>0</td>\n      <td>0</td>\n      <td>0</td>\n      <td>0</td>\n      <td>0</td>\n      <td>0</td>\n      <td>0</td>\n    </tr>\n    <tr>\n      <th>ZS</th>\n      <td>0</td>\n      <td>0</td>\n      <td>0</td>\n      <td>0</td>\n      <td>0</td>\n      <td>0</td>\n      <td>0</td>\n      <td>0</td>\n      <td>0</td>\n      <td>0</td>\n      <td>...</td>\n      <td>0</td>\n      <td>0</td>\n      <td>0</td>\n      <td>0</td>\n      <td>0</td>\n      <td>0</td>\n      <td>0</td>\n      <td>0</td>\n      <td>0</td>\n      <td>0</td>\n    </tr>\n  </tbody>\n</table>\n<p>367 rows × 61541 columns</p>\n</div>"
     },
     "metadata": {},
     "execution_count": 14
    }
   ],
   "source": [
    "onehotdf"
   ]
  },
  {
   "cell_type": "code",
   "execution_count": 15,
   "metadata": {},
   "outputs": [],
   "source": [
    "from scipy import sparse\n",
    "import networkx as nx\n",
    "\n",
    "matrix = onehotdf.to_numpy()\n",
    "sparsematrix = sparse.csr_matrix(matrix)\n",
    "\n",
    "adjacencyframe = pd.DataFrame(sparsematrix.dot(onehotdf.T), columns = onehotdf.index)\n",
    "adjacencyframe.set_index(onehotdf.index, inplace= True)"
   ]
  },
  {
   "cell_type": "code",
   "execution_count": 16,
   "metadata": {},
   "outputs": [
    {
     "output_type": "execute_result",
     "data": {
      "text/plain": [
       "       AAL  AAPL  AAXN  ABT  ACB  ADBE  AG  AIRT  ALK  ALL  ...  WMT  WORK  \\\n",
       "AAL   1162    42     1    1    2     0   0     1   15    3  ...    7     3   \n",
       "AAPL    42  6037     0    1    4    22   1    11    1   12  ...  102    13   \n",
       "AAXN     1     0    56    0    0     0   0     0    0    0  ...    0     0   \n",
       "ABT      1     1     0   55    0     0   0     0    0    0  ...    2     3   \n",
       "ACB      2     4     0    0  203     0   0     0    0    2  ...    3     0   \n",
       "...    ...   ...   ...  ...  ...   ...  ..   ...  ...  ...  ...  ...   ...   \n",
       "XOM      9    16     1    1    0     0   0     0    0    1  ...    7     1   \n",
       "Z        0     1     0    0    0     0   0     1    0    0  ...    1     0   \n",
       "ZM      14    75     0    6    2     4   1     0    0    4  ...   19    67   \n",
       "ZNGA     0     2     0    0    1     0   0     0    0    0  ...    0     0   \n",
       "ZS       0     3     0    0    0     2   0     0    0    0  ...    0    10   \n",
       "\n",
       "      WTI  WWE  WYNN  XOM   Z    ZM  ZNGA   ZS  \n",
       "AAL     1    7    10    9   0    14     0    0  \n",
       "AAPL    1    1     1   16   1    75     2    3  \n",
       "AAXN    0    0     0    1   0     0     0    0  \n",
       "ABT     0    0     0    1   0     6     0    0  \n",
       "ACB     0    0     0    0   0     2     1    0  \n",
       "...   ...  ...   ...  ...  ..   ...   ...  ...  \n",
       "XOM     5    0     2  493   0     0     0    0  \n",
       "Z       0    1     0    0  55     0     0    0  \n",
       "ZM      0    1     3    0   0  1188     4   10  \n",
       "ZNGA    0    0     0    0   0     4    66    1  \n",
       "ZS      0    0     0    0   0    10     1  110  \n",
       "\n",
       "[367 rows x 367 columns]"
      ],
      "text/html": "<div>\n<style scoped>\n    .dataframe tbody tr th:only-of-type {\n        vertical-align: middle;\n    }\n\n    .dataframe tbody tr th {\n        vertical-align: top;\n    }\n\n    .dataframe thead th {\n        text-align: right;\n    }\n</style>\n<table border=\"1\" class=\"dataframe\">\n  <thead>\n    <tr style=\"text-align: right;\">\n      <th></th>\n      <th>AAL</th>\n      <th>AAPL</th>\n      <th>AAXN</th>\n      <th>ABT</th>\n      <th>ACB</th>\n      <th>ADBE</th>\n      <th>AG</th>\n      <th>AIRT</th>\n      <th>ALK</th>\n      <th>ALL</th>\n      <th>...</th>\n      <th>WMT</th>\n      <th>WORK</th>\n      <th>WTI</th>\n      <th>WWE</th>\n      <th>WYNN</th>\n      <th>XOM</th>\n      <th>Z</th>\n      <th>ZM</th>\n      <th>ZNGA</th>\n      <th>ZS</th>\n    </tr>\n  </thead>\n  <tbody>\n    <tr>\n      <th>AAL</th>\n      <td>1162</td>\n      <td>42</td>\n      <td>1</td>\n      <td>1</td>\n      <td>2</td>\n      <td>0</td>\n      <td>0</td>\n      <td>1</td>\n      <td>15</td>\n      <td>3</td>\n      <td>...</td>\n      <td>7</td>\n      <td>3</td>\n      <td>1</td>\n      <td>7</td>\n      <td>10</td>\n      <td>9</td>\n      <td>0</td>\n      <td>14</td>\n      <td>0</td>\n      <td>0</td>\n    </tr>\n    <tr>\n      <th>AAPL</th>\n      <td>42</td>\n      <td>6037</td>\n      <td>0</td>\n      <td>1</td>\n      <td>4</td>\n      <td>22</td>\n      <td>1</td>\n      <td>11</td>\n      <td>1</td>\n      <td>12</td>\n      <td>...</td>\n      <td>102</td>\n      <td>13</td>\n      <td>1</td>\n      <td>1</td>\n      <td>1</td>\n      <td>16</td>\n      <td>1</td>\n      <td>75</td>\n      <td>2</td>\n      <td>3</td>\n    </tr>\n    <tr>\n      <th>AAXN</th>\n      <td>1</td>\n      <td>0</td>\n      <td>56</td>\n      <td>0</td>\n      <td>0</td>\n      <td>0</td>\n      <td>0</td>\n      <td>0</td>\n      <td>0</td>\n      <td>0</td>\n      <td>...</td>\n      <td>0</td>\n      <td>0</td>\n      <td>0</td>\n      <td>0</td>\n      <td>0</td>\n      <td>1</td>\n      <td>0</td>\n      <td>0</td>\n      <td>0</td>\n      <td>0</td>\n    </tr>\n    <tr>\n      <th>ABT</th>\n      <td>1</td>\n      <td>1</td>\n      <td>0</td>\n      <td>55</td>\n      <td>0</td>\n      <td>0</td>\n      <td>0</td>\n      <td>0</td>\n      <td>0</td>\n      <td>0</td>\n      <td>...</td>\n      <td>2</td>\n      <td>3</td>\n      <td>0</td>\n      <td>0</td>\n      <td>0</td>\n      <td>1</td>\n      <td>0</td>\n      <td>6</td>\n      <td>0</td>\n      <td>0</td>\n    </tr>\n    <tr>\n      <th>ACB</th>\n      <td>2</td>\n      <td>4</td>\n      <td>0</td>\n      <td>0</td>\n      <td>203</td>\n      <td>0</td>\n      <td>0</td>\n      <td>0</td>\n      <td>0</td>\n      <td>2</td>\n      <td>...</td>\n      <td>3</td>\n      <td>0</td>\n      <td>0</td>\n      <td>0</td>\n      <td>0</td>\n      <td>0</td>\n      <td>0</td>\n      <td>2</td>\n      <td>1</td>\n      <td>0</td>\n    </tr>\n    <tr>\n      <th>...</th>\n      <td>...</td>\n      <td>...</td>\n      <td>...</td>\n      <td>...</td>\n      <td>...</td>\n      <td>...</td>\n      <td>...</td>\n      <td>...</td>\n      <td>...</td>\n      <td>...</td>\n      <td>...</td>\n      <td>...</td>\n      <td>...</td>\n      <td>...</td>\n      <td>...</td>\n      <td>...</td>\n      <td>...</td>\n      <td>...</td>\n      <td>...</td>\n      <td>...</td>\n      <td>...</td>\n    </tr>\n    <tr>\n      <th>XOM</th>\n      <td>9</td>\n      <td>16</td>\n      <td>1</td>\n      <td>1</td>\n      <td>0</td>\n      <td>0</td>\n      <td>0</td>\n      <td>0</td>\n      <td>0</td>\n      <td>1</td>\n      <td>...</td>\n      <td>7</td>\n      <td>1</td>\n      <td>5</td>\n      <td>0</td>\n      <td>2</td>\n      <td>493</td>\n      <td>0</td>\n      <td>0</td>\n      <td>0</td>\n      <td>0</td>\n    </tr>\n    <tr>\n      <th>Z</th>\n      <td>0</td>\n      <td>1</td>\n      <td>0</td>\n      <td>0</td>\n      <td>0</td>\n      <td>0</td>\n      <td>0</td>\n      <td>1</td>\n      <td>0</td>\n      <td>0</td>\n      <td>...</td>\n      <td>1</td>\n      <td>0</td>\n      <td>0</td>\n      <td>1</td>\n      <td>0</td>\n      <td>0</td>\n      <td>55</td>\n      <td>0</td>\n      <td>0</td>\n      <td>0</td>\n    </tr>\n    <tr>\n      <th>ZM</th>\n      <td>14</td>\n      <td>75</td>\n      <td>0</td>\n      <td>6</td>\n      <td>2</td>\n      <td>4</td>\n      <td>1</td>\n      <td>0</td>\n      <td>0</td>\n      <td>4</td>\n      <td>...</td>\n      <td>19</td>\n      <td>67</td>\n      <td>0</td>\n      <td>1</td>\n      <td>3</td>\n      <td>0</td>\n      <td>0</td>\n      <td>1188</td>\n      <td>4</td>\n      <td>10</td>\n    </tr>\n    <tr>\n      <th>ZNGA</th>\n      <td>0</td>\n      <td>2</td>\n      <td>0</td>\n      <td>0</td>\n      <td>1</td>\n      <td>0</td>\n      <td>0</td>\n      <td>0</td>\n      <td>0</td>\n      <td>0</td>\n      <td>...</td>\n      <td>0</td>\n      <td>0</td>\n      <td>0</td>\n      <td>0</td>\n      <td>0</td>\n      <td>0</td>\n      <td>0</td>\n      <td>4</td>\n      <td>66</td>\n      <td>1</td>\n    </tr>\n    <tr>\n      <th>ZS</th>\n      <td>0</td>\n      <td>3</td>\n      <td>0</td>\n      <td>0</td>\n      <td>0</td>\n      <td>2</td>\n      <td>0</td>\n      <td>0</td>\n      <td>0</td>\n      <td>0</td>\n      <td>...</td>\n      <td>0</td>\n      <td>10</td>\n      <td>0</td>\n      <td>0</td>\n      <td>0</td>\n      <td>0</td>\n      <td>0</td>\n      <td>10</td>\n      <td>1</td>\n      <td>110</td>\n    </tr>\n  </tbody>\n</table>\n<p>367 rows × 367 columns</p>\n</div>"
     },
     "metadata": {},
     "execution_count": 16
    }
   ],
   "source": [
    "adjacencyframe"
   ]
  },
  {
   "cell_type": "code",
   "execution_count": 18,
   "metadata": {},
   "outputs": [],
   "source": [
    "import numpy as np"
   ]
  },
  {
   "cell_type": "code",
   "execution_count": 19,
   "metadata": {},
   "outputs": [],
   "source": [
    "adjacencyframe.values[[np.arange(adjacencyframe.shape[0])]*2] = 0"
   ]
  },
  {
   "cell_type": "code",
   "execution_count": 23,
   "metadata": {},
   "outputs": [],
   "source": [
    "edgelist = adjacencyframe.stack().reset_index()"
   ]
  },
  {
   "cell_type": "code",
   "execution_count": 24,
   "metadata": {},
   "outputs": [
    {
     "output_type": "execute_result",
     "data": {
      "text/plain": [
       "       level_0 level_1   0\n",
       "0          AAL     AAL   0\n",
       "1          AAL    AAPL  42\n",
       "2          AAL    AAXN   1\n",
       "3          AAL     ABT   1\n",
       "4          AAL     ACB   2\n",
       "...        ...     ...  ..\n",
       "134684      ZS     XOM   0\n",
       "134685      ZS       Z   0\n",
       "134686      ZS      ZM  10\n",
       "134687      ZS    ZNGA   1\n",
       "134688      ZS      ZS   0\n",
       "\n",
       "[134689 rows x 3 columns]"
      ],
      "text/html": "<div>\n<style scoped>\n    .dataframe tbody tr th:only-of-type {\n        vertical-align: middle;\n    }\n\n    .dataframe tbody tr th {\n        vertical-align: top;\n    }\n\n    .dataframe thead th {\n        text-align: right;\n    }\n</style>\n<table border=\"1\" class=\"dataframe\">\n  <thead>\n    <tr style=\"text-align: right;\">\n      <th></th>\n      <th>level_0</th>\n      <th>level_1</th>\n      <th>0</th>\n    </tr>\n  </thead>\n  <tbody>\n    <tr>\n      <th>0</th>\n      <td>AAL</td>\n      <td>AAL</td>\n      <td>0</td>\n    </tr>\n    <tr>\n      <th>1</th>\n      <td>AAL</td>\n      <td>AAPL</td>\n      <td>42</td>\n    </tr>\n    <tr>\n      <th>2</th>\n      <td>AAL</td>\n      <td>AAXN</td>\n      <td>1</td>\n    </tr>\n    <tr>\n      <th>3</th>\n      <td>AAL</td>\n      <td>ABT</td>\n      <td>1</td>\n    </tr>\n    <tr>\n      <th>4</th>\n      <td>AAL</td>\n      <td>ACB</td>\n      <td>2</td>\n    </tr>\n    <tr>\n      <th>...</th>\n      <td>...</td>\n      <td>...</td>\n      <td>...</td>\n    </tr>\n    <tr>\n      <th>134684</th>\n      <td>ZS</td>\n      <td>XOM</td>\n      <td>0</td>\n    </tr>\n    <tr>\n      <th>134685</th>\n      <td>ZS</td>\n      <td>Z</td>\n      <td>0</td>\n    </tr>\n    <tr>\n      <th>134686</th>\n      <td>ZS</td>\n      <td>ZM</td>\n      <td>10</td>\n    </tr>\n    <tr>\n      <th>134687</th>\n      <td>ZS</td>\n      <td>ZNGA</td>\n      <td>1</td>\n    </tr>\n    <tr>\n      <th>134688</th>\n      <td>ZS</td>\n      <td>ZS</td>\n      <td>0</td>\n    </tr>\n  </tbody>\n</table>\n<p>134689 rows × 3 columns</p>\n</div>"
     },
     "metadata": {},
     "execution_count": 24
    }
   ],
   "source": [
    "edgelist"
   ]
  },
  {
   "cell_type": "code",
   "execution_count": 31,
   "metadata": {},
   "outputs": [],
   "source": [
    "edgelist.drop(edgelist.loc[edgelist[0] == 0].index, inplace = True)"
   ]
  },
  {
   "cell_type": "code",
   "execution_count": 34,
   "metadata": {},
   "outputs": [],
   "source": [
    "edgelist.reset_index(drop=True, inplace=True)"
   ]
  },
  {
   "cell_type": "code",
   "execution_count": 36,
   "metadata": {},
   "outputs": [],
   "source": [
    "edgelist.columns = ['source', 'target', 'weight']"
   ]
  },
  {
   "cell_type": "code",
   "execution_count": 38,
   "metadata": {},
   "outputs": [],
   "source": [
    "edgelist.to_json('data.json', 'records')"
   ]
  },
  {
   "cell_type": "code",
   "execution_count": 42,
   "metadata": {},
   "outputs": [
    {
     "output_type": "execute_result",
     "data": {
      "text/plain": [
       "      AAL  AAPL  AAXN  ABT  ACB  ADBE  AG  AIRT  ALK  ALL  ...  WMT  WORK  \\\n",
       "AAL     0    42     1    1    2     0   0     1   15    3  ...    7     3   \n",
       "AAPL   42     0     0    1    4    22   1    11    1   12  ...  102    13   \n",
       "AAXN    1     0     0    0    0     0   0     0    0    0  ...    0     0   \n",
       "ABT     1     1     0    0    0     0   0     0    0    0  ...    2     3   \n",
       "ACB     2     4     0    0    0     0   0     0    0    2  ...    3     0   \n",
       "...   ...   ...   ...  ...  ...   ...  ..   ...  ...  ...  ...  ...   ...   \n",
       "XOM     9    16     1    1    0     0   0     0    0    1  ...    7     1   \n",
       "Z       0     1     0    0    0     0   0     1    0    0  ...    1     0   \n",
       "ZM     14    75     0    6    2     4   1     0    0    4  ...   19    67   \n",
       "ZNGA    0     2     0    0    1     0   0     0    0    0  ...    0     0   \n",
       "ZS      0     3     0    0    0     2   0     0    0    0  ...    0    10   \n",
       "\n",
       "      WTI  WWE  WYNN  XOM  Z  ZM  ZNGA  ZS  \n",
       "AAL     1    7    10    9  0  14     0   0  \n",
       "AAPL    1    1     1   16  1  75     2   3  \n",
       "AAXN    0    0     0    1  0   0     0   0  \n",
       "ABT     0    0     0    1  0   6     0   0  \n",
       "ACB     0    0     0    0  0   2     1   0  \n",
       "...   ...  ...   ...  ... ..  ..   ...  ..  \n",
       "XOM     5    0     2    0  0   0     0   0  \n",
       "Z       0    1     0    0  0   0     0   0  \n",
       "ZM      0    1     3    0  0   0     4  10  \n",
       "ZNGA    0    0     0    0  0   4     0   1  \n",
       "ZS      0    0     0    0  0  10     1   0  \n",
       "\n",
       "[367 rows x 367 columns]"
      ],
      "text/html": "<div>\n<style scoped>\n    .dataframe tbody tr th:only-of-type {\n        vertical-align: middle;\n    }\n\n    .dataframe tbody tr th {\n        vertical-align: top;\n    }\n\n    .dataframe thead th {\n        text-align: right;\n    }\n</style>\n<table border=\"1\" class=\"dataframe\">\n  <thead>\n    <tr style=\"text-align: right;\">\n      <th></th>\n      <th>AAL</th>\n      <th>AAPL</th>\n      <th>AAXN</th>\n      <th>ABT</th>\n      <th>ACB</th>\n      <th>ADBE</th>\n      <th>AG</th>\n      <th>AIRT</th>\n      <th>ALK</th>\n      <th>ALL</th>\n      <th>...</th>\n      <th>WMT</th>\n      <th>WORK</th>\n      <th>WTI</th>\n      <th>WWE</th>\n      <th>WYNN</th>\n      <th>XOM</th>\n      <th>Z</th>\n      <th>ZM</th>\n      <th>ZNGA</th>\n      <th>ZS</th>\n    </tr>\n  </thead>\n  <tbody>\n    <tr>\n      <th>AAL</th>\n      <td>0</td>\n      <td>42</td>\n      <td>1</td>\n      <td>1</td>\n      <td>2</td>\n      <td>0</td>\n      <td>0</td>\n      <td>1</td>\n      <td>15</td>\n      <td>3</td>\n      <td>...</td>\n      <td>7</td>\n      <td>3</td>\n      <td>1</td>\n      <td>7</td>\n      <td>10</td>\n      <td>9</td>\n      <td>0</td>\n      <td>14</td>\n      <td>0</td>\n      <td>0</td>\n    </tr>\n    <tr>\n      <th>AAPL</th>\n      <td>42</td>\n      <td>0</td>\n      <td>0</td>\n      <td>1</td>\n      <td>4</td>\n      <td>22</td>\n      <td>1</td>\n      <td>11</td>\n      <td>1</td>\n      <td>12</td>\n      <td>...</td>\n      <td>102</td>\n      <td>13</td>\n      <td>1</td>\n      <td>1</td>\n      <td>1</td>\n      <td>16</td>\n      <td>1</td>\n      <td>75</td>\n      <td>2</td>\n      <td>3</td>\n    </tr>\n    <tr>\n      <th>AAXN</th>\n      <td>1</td>\n      <td>0</td>\n      <td>0</td>\n      <td>0</td>\n      <td>0</td>\n      <td>0</td>\n      <td>0</td>\n      <td>0</td>\n      <td>0</td>\n      <td>0</td>\n      <td>...</td>\n      <td>0</td>\n      <td>0</td>\n      <td>0</td>\n      <td>0</td>\n      <td>0</td>\n      <td>1</td>\n      <td>0</td>\n      <td>0</td>\n      <td>0</td>\n      <td>0</td>\n    </tr>\n    <tr>\n      <th>ABT</th>\n      <td>1</td>\n      <td>1</td>\n      <td>0</td>\n      <td>0</td>\n      <td>0</td>\n      <td>0</td>\n      <td>0</td>\n      <td>0</td>\n      <td>0</td>\n      <td>0</td>\n      <td>...</td>\n      <td>2</td>\n      <td>3</td>\n      <td>0</td>\n      <td>0</td>\n      <td>0</td>\n      <td>1</td>\n      <td>0</td>\n      <td>6</td>\n      <td>0</td>\n      <td>0</td>\n    </tr>\n    <tr>\n      <th>ACB</th>\n      <td>2</td>\n      <td>4</td>\n      <td>0</td>\n      <td>0</td>\n      <td>0</td>\n      <td>0</td>\n      <td>0</td>\n      <td>0</td>\n      <td>0</td>\n      <td>2</td>\n      <td>...</td>\n      <td>3</td>\n      <td>0</td>\n      <td>0</td>\n      <td>0</td>\n      <td>0</td>\n      <td>0</td>\n      <td>0</td>\n      <td>2</td>\n      <td>1</td>\n      <td>0</td>\n    </tr>\n    <tr>\n      <th>...</th>\n      <td>...</td>\n      <td>...</td>\n      <td>...</td>\n      <td>...</td>\n      <td>...</td>\n      <td>...</td>\n      <td>...</td>\n      <td>...</td>\n      <td>...</td>\n      <td>...</td>\n      <td>...</td>\n      <td>...</td>\n      <td>...</td>\n      <td>...</td>\n      <td>...</td>\n      <td>...</td>\n      <td>...</td>\n      <td>...</td>\n      <td>...</td>\n      <td>...</td>\n      <td>...</td>\n    </tr>\n    <tr>\n      <th>XOM</th>\n      <td>9</td>\n      <td>16</td>\n      <td>1</td>\n      <td>1</td>\n      <td>0</td>\n      <td>0</td>\n      <td>0</td>\n      <td>0</td>\n      <td>0</td>\n      <td>1</td>\n      <td>...</td>\n      <td>7</td>\n      <td>1</td>\n      <td>5</td>\n      <td>0</td>\n      <td>2</td>\n      <td>0</td>\n      <td>0</td>\n      <td>0</td>\n      <td>0</td>\n      <td>0</td>\n    </tr>\n    <tr>\n      <th>Z</th>\n      <td>0</td>\n      <td>1</td>\n      <td>0</td>\n      <td>0</td>\n      <td>0</td>\n      <td>0</td>\n      <td>0</td>\n      <td>1</td>\n      <td>0</td>\n      <td>0</td>\n      <td>...</td>\n      <td>1</td>\n      <td>0</td>\n      <td>0</td>\n      <td>1</td>\n      <td>0</td>\n      <td>0</td>\n      <td>0</td>\n      <td>0</td>\n      <td>0</td>\n      <td>0</td>\n    </tr>\n    <tr>\n      <th>ZM</th>\n      <td>14</td>\n      <td>75</td>\n      <td>0</td>\n      <td>6</td>\n      <td>2</td>\n      <td>4</td>\n      <td>1</td>\n      <td>0</td>\n      <td>0</td>\n      <td>4</td>\n      <td>...</td>\n      <td>19</td>\n      <td>67</td>\n      <td>0</td>\n      <td>1</td>\n      <td>3</td>\n      <td>0</td>\n      <td>0</td>\n      <td>0</td>\n      <td>4</td>\n      <td>10</td>\n    </tr>\n    <tr>\n      <th>ZNGA</th>\n      <td>0</td>\n      <td>2</td>\n      <td>0</td>\n      <td>0</td>\n      <td>1</td>\n      <td>0</td>\n      <td>0</td>\n      <td>0</td>\n      <td>0</td>\n      <td>0</td>\n      <td>...</td>\n      <td>0</td>\n      <td>0</td>\n      <td>0</td>\n      <td>0</td>\n      <td>0</td>\n      <td>0</td>\n      <td>0</td>\n      <td>4</td>\n      <td>0</td>\n      <td>1</td>\n    </tr>\n    <tr>\n      <th>ZS</th>\n      <td>0</td>\n      <td>3</td>\n      <td>0</td>\n      <td>0</td>\n      <td>0</td>\n      <td>2</td>\n      <td>0</td>\n      <td>0</td>\n      <td>0</td>\n      <td>0</td>\n      <td>...</td>\n      <td>0</td>\n      <td>10</td>\n      <td>0</td>\n      <td>0</td>\n      <td>0</td>\n      <td>0</td>\n      <td>0</td>\n      <td>10</td>\n      <td>1</td>\n      <td>0</td>\n    </tr>\n  </tbody>\n</table>\n<p>367 rows × 367 columns</p>\n</div>"
     },
     "metadata": {},
     "execution_count": 42
    }
   ],
   "source": [
    "adjacencyframe"
   ]
  },
  {
   "cell_type": "code",
   "execution_count": 44,
   "metadata": {},
   "outputs": [],
   "source": [
    "namedf = pd.DataFrame(columns = ['name'])"
   ]
  },
  {
   "cell_type": "code",
   "execution_count": 45,
   "metadata": {},
   "outputs": [],
   "source": [
    "namedf['name'] = adjacencyframe.columns"
   ]
  },
  {
   "cell_type": "code",
   "execution_count": 47,
   "metadata": {},
   "outputs": [],
   "source": [
    "namedf.to_json('nodes.json', 'records')"
   ]
  },
  {
   "cell_type": "code",
   "execution_count": 17,
   "metadata": {},
   "outputs": [],
   "source": [
    "G = nx.from_pandas_adjacency(adjacencyframe)"
   ]
  },
  {
   "cell_type": "code",
   "execution_count": 18,
   "metadata": {},
   "outputs": [],
   "source": [
    "pos = nx.spring_layout(G)"
   ]
  },
  {
   "cell_type": "code",
   "execution_count": 19,
   "metadata": {},
   "outputs": [],
   "source": [
    "import plotly.offline as py\n",
    "import plotly.graph_objects as go"
   ]
  },
  {
   "cell_type": "code",
   "execution_count": 20,
   "metadata": {},
   "outputs": [],
   "source": [
    "'''node_trace = go.Scatter(x         = [],\n",
    "                        y         = [],\n",
    "                        mode      = 'markers+text',\n",
    "                        hoverinfo = 'none',\n",
    "                        marker    = dict(color = [],\n",
    "                                         size  = [],\n",
    "                                         line  = None))\n",
    "\n",
    "for node in G.nodes():\n",
    "    x, y = pos[node]\n",
    "    node_trace['x'] += tuple([x])\n",
    "    node_trace['y'] += tuple([y])\n",
    "    node_trace['marker']['color'] += tuple(['cornflowerblue'])'''"
   ]
  },
  {
   "cell_type": "code",
   "execution_count": 21,
   "metadata": {},
   "outputs": [],
   "source": [
    "'''def make_edge(x, y, text, width):\n",
    "    return  go.Scatter(x         = x,\n",
    "                       y         = y,\n",
    "                       line      = dict(width = width,\n",
    "                                   color = 'cornflowerblue'),\n",
    "                       hoverinfo = 'text',\n",
    "                       text      = ([text]),\n",
    "                       mode      = 'lines')'''"
   ]
  },
  {
   "cell_type": "code",
   "execution_count": 27,
   "metadata": {},
   "outputs": [],
   "source": [
    "'''edge_trace = []\n",
    "for edge in G.edges():\n",
    "    \n",
    "    if G.edges()[edge]['weight'] > 0:\n",
    "        char_1 = edge[0]\n",
    "        char_2 = edge[1]\n",
    "    x0, y0 = pos[char_1]\n",
    "    x1, y1 = pos[char_2]\n",
    "    text   = 'test'\n",
    "        \n",
    "    trace  = make_edge([x0, x1, None], [y0, y1, None], text, \n",
    "                    width = 0.0003*G.edges()[edge]['weight']**1.75)\n",
    "    edge_trace.append(trace)'''"
   ]
  },
  {
   "cell_type": "code",
   "execution_count": 28,
   "metadata": {},
   "outputs": [],
   "source": [
    "'''# Customize layout\n",
    "layout = go.Layout(\n",
    "    paper_bgcolor='rgba(0,0,0,0)', # transparent background\n",
    "    plot_bgcolor='rgba(0,0,0,0)', # transparent 2nd background\n",
    "    xaxis =  {'showgrid': False, 'zeroline': False}, # no gridlines\n",
    "    yaxis = {'showgrid': False, 'zeroline': False}, # no gridlines\n",
    ")\n",
    "# Create figure\n",
    "fig = go.Figure(layout = layout)\n",
    "# Add all edge traces\n",
    "for trace in edge_trace:\n",
    "    fig.add_trace(trace)\n",
    "# Add node trace\n",
    "fig.add_trace(node_trace)\n",
    "# Remove legend\n",
    "fig.update_layout(showlegend = False)\n",
    "# Remove tick labels\n",
    "fig.update_xaxes(showticklabels = False)\n",
    "fig.update_yaxes(showticklabels = False)\n",
    "# Show figure\n",
    "fig.write_html('adjacency.html')'''"
   ]
  },
  {
   "cell_type": "code",
   "execution_count": null,
   "metadata": {},
   "outputs": [],
   "source": []
  }
 ]
}