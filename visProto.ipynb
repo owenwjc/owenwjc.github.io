{
 "metadata": {
  "language_info": {
   "codemirror_mode": {
    "name": "ipython",
    "version": 3
   },
   "file_extension": ".py",
   "mimetype": "text/x-python",
   "name": "python",
   "nbconvert_exporter": "python",
   "pygments_lexer": "ipython3",
   "version": "3.8.5-final"
  },
  "orig_nbformat": 2,
  "kernelspec": {
   "name": "python3",
   "display_name": "Python 3.8.5 64-bit ('base': conda)",
   "metadata": {
    "interpreter": {
     "hash": "34e8fc32436ce365501cba790e25a8b100775edfa54701b9b602bd66f962431f"
    }
   }
  }
 },
 "nbformat": 4,
 "nbformat_minor": 2,
 "cells": [
  {
   "cell_type": "code",
   "execution_count": 1,
   "metadata": {},
   "outputs": [],
   "source": [
    "import pandas as pd\n",
    "import pymongo\n",
    "from pymongo import MongoClient\n",
    "import json"
   ]
  },
  {
   "cell_type": "code",
   "execution_count": 2,
   "metadata": {},
   "outputs": [],
   "source": [
    "client = MongoClient('localhost', 27017)\n",
    "db = client.db\n",
    "comments = db.comments"
   ]
  },
  {
   "cell_type": "code",
   "execution_count": 3,
   "metadata": {},
   "outputs": [],
   "source": [
    "commentdf = pd.DataFrame(comments.find())"
   ]
  },
  {
   "cell_type": "code",
   "execution_count": 4,
   "metadata": {},
   "outputs": [],
   "source": [
    "def string_to_list(string):\n",
    "    return json.loads(string)\n",
    "\n",
    "def get_len(list):\n",
    "    return len(list)"
   ]
  },
  {
   "cell_type": "code",
   "execution_count": 5,
   "metadata": {},
   "outputs": [],
   "source": [
    "commentdf['stocks'] = commentdf['stocks'].apply(string_to_list)"
   ]
  },
  {
   "cell_type": "code",
   "execution_count": 6,
   "metadata": {},
   "outputs": [],
   "source": [
    "commentdf['size'] = commentdf['stocks'].apply(get_len)"
   ]
  },
  {
   "cell_type": "code",
   "execution_count": 7,
   "metadata": {},
   "outputs": [],
   "source": [
    "stockdf = commentdf.loc[commentdf['size'] != 0]"
   ]
  },
  {
   "cell_type": "code",
   "execution_count": 8,
   "metadata": {},
   "outputs": [],
   "source": [
    "from sklearn.preprocessing import MultiLabelBinarizer\n",
    "s = stockdf['stocks']\n",
    "mlb = MultiLabelBinarizer()\n",
    "onehotdf = pd.DataFrame(mlb.fit_transform(s), columns = mlb.classes_, index = stockdf.index)\n",
    "\n",
    "connectionsdict = onehotdf.sum(axis = 1).to_dict()\n",
    "connectionsdict = {k:v for k, v in connectionsdict.items() if v != 1}\n",
    "\n",
    "onehotdf = onehotdf[onehotdf.index.isin(connectionsdict.keys())]\n",
    "\n",
    "chorddict = onehotdf.sum(axis = 0).to_dict()\n",
    "chorddict = {key:val for key, val in chorddict.items() if val > 0}\n",
    "\n",
    "nonMatrix = ['NaN', 'ACB', 'ALL', 'AM', 'AN', 'ANY', 'AONE', 'APT', 'AT', 'BB', 'BE', 'BEST', 'BIG', 'BILL', 'BOX', 'BRO', 'BY', 'CEO', 'DNOW', 'ET', 'EVER', 'FDS', 'FL', 'FOR', 'FREE', 'GDP', 'GL', 'HAS', 'HD', 'HE', 'HOME', 'HOPE', 'IQ', 'JP', 'KIM', 'LIFE', 'LIVE', 'LL', 'LOW', 'MAN', 'NEXT', 'NOW', 'OI', 'ONE', 'OUT', 'PLAN', 'PLAY', 'PM', 'PPT', 'PUMP', 'RE', 'REAL', 'RH', 'RTX', 'RUN', 'SAVE', 'SE', 'SGU', 'SO', 'SPXC', 'STAR          ', 'STAY', 'TDA', 'TEAM', 'TECH', 'TELL', 'TIMB$', 'TISI', 'TV', 'TWO', 'UI', 'TD', 'GLG']\n",
    "\n",
    "take_or = lambda x, y: x if x >= y else y\n",
    "onehotdf['BRK'] = onehotdf['BRK.A'].combine(onehotdf['BRK.B'], take_or)\n",
    "onehotdf.drop(columns = ['BRK.A', 'BRK.B'], inplace = True)\n",
    "onehotdf['GOOG'] = onehotdf['GOOG'].combine(onehotdf['GOOGL'], take_or)\n",
    "onehotdf.drop(columns = ['GOOG', 'GOOGL'], inplace = True)\n",
    "\n",
    "onehotdf.drop(columns = nonMatrix, inplace = True)\n",
    "\n",
    "chorddict = onehotdf.sum(axis = 0).to_dict()\n",
    "chorddict = {key:val for key, val in chorddict.items() if val > 100}\n",
    "\n",
    "chorddf = onehotdf[chorddict.keys()]\n",
    "\n",
    "chorddf = chorddf.T\n",
    "testdict = chorddf.dot(chorddf.T).sum().sort_values().to_dict()\n",
    "\n",
    "names = list(testdict.keys())[113:]\n",
    "chorddf = onehotdf[names]\n",
    "\n",
    "matrix = chorddf.corr()\n",
    "\n",
    "matrix[matrix < 0] = 0\n",
    "matrix[matrix == 1] = 0\n",
    "matrix = matrix.values.tolist()"
   ]
  },
  {
   "cell_type": "code",
   "execution_count": 9,
   "metadata": {},
   "outputs": [],
   "source": [
    "from chord import Chord\n",
    "Chord(matrix, names).to_html()"
   ]
  },
  {
   "cell_type": "code",
   "execution_count": 10,
   "metadata": {},
   "outputs": [],
   "source": [
    "from sklearn.preprocessing import MultiLabelBinarizer\n",
    "s = stockdf['stocks']\n",
    "mlb = MultiLabelBinarizer()\n",
    "onehotdf = pd.DataFrame(mlb.fit_transform(s), columns = mlb.classes_, index = stockdf.index)"
   ]
  },
  {
   "cell_type": "code",
   "execution_count": 11,
   "metadata": {},
   "outputs": [],
   "source": [
    "connectionsdict = onehotdf.sum(axis = 1).to_dict()\n",
    "connectionsdict = {k:v for k, v in connectionsdict.items() if v != 1}\n",
    "\n",
    "onehotdf = onehotdf[onehotdf.index.isin(connectionsdict.keys())]"
   ]
  },
  {
   "cell_type": "code",
   "execution_count": 13,
   "metadata": {},
   "outputs": [],
   "source": [
    "companydict = onehotdf.sum(axis = 0).to_dict()\n",
    "companydict = {k:v for k, v in companydict.items() if v == 0}\n",
    "\n",
    "onehotdf.drop(columns = companydict.keys(), inplace = True)"
   ]
  },
  {
   "cell_type": "code",
   "execution_count": 15,
   "metadata": {},
   "outputs": [],
   "source": [
    "onehotdf = onehotdf.T"
   ]
  },
  {
   "cell_type": "code",
   "execution_count": 16,
   "metadata": {},
   "outputs": [
    {
     "output_type": "execute_result",
     "data": {
      "text/plain": [
       "       52       56       67       73       91       157      323      377      \\\n",
       "A            0        0        0        0        0        0        0        0   \n",
       "AA           0        0        0        0        0        0        0        0   \n",
       "AACQ         0        0        0        0        0        0        0        0   \n",
       "AACQU        0        0        0        0        0        0        0        0   \n",
       "AAL          0        0        0        0        0        0        0        0   \n",
       "...        ...      ...      ...      ...      ...      ...      ...      ...   \n",
       "ZTS          0        0        0        0        0        0        0        0   \n",
       "ZUMZ         0        0        0        0        0        0        0        0   \n",
       "ZUO          0        0        0        0        0        0        0        0   \n",
       "ZVO          0        0        0        0        0        0        0        0   \n",
       "ZYNE         0        0        0        0        0        0        0        0   \n",
       "\n",
       "       387      403      ...  2392139  2392197  2392242  2392254  2392328  \\\n",
       "A            0        0  ...        0        0        0        0        0   \n",
       "AA           0        0  ...        0        0        0        0        0   \n",
       "AACQ         0        0  ...        0        0        0        0        0   \n",
       "AACQU        0        0  ...        0        0        0        0        0   \n",
       "AAL          0        0  ...        1        0        0        0        0   \n",
       "...        ...      ...  ...      ...      ...      ...      ...      ...   \n",
       "ZTS          0        0  ...        0        0        0        0        0   \n",
       "ZUMZ         0        0  ...        0        0        0        0        0   \n",
       "ZUO          0        0  ...        0        0        0        0        0   \n",
       "ZVO          0        0  ...        0        0        0        0        0   \n",
       "ZYNE         0        0  ...        0        0        0        0        0   \n",
       "\n",
       "       2392344  2392413  2392510  2392539  2392573  \n",
       "A            0        0        0        0        0  \n",
       "AA           0        0        0        0        0  \n",
       "AACQ         0        0        0        0        0  \n",
       "AACQU        0        0        0        0        0  \n",
       "AAL          0        0        0        0        0  \n",
       "...        ...      ...      ...      ...      ...  \n",
       "ZTS          0        0        0        0        0  \n",
       "ZUMZ         0        0        0        0        0  \n",
       "ZUO          0        0        0        0        0  \n",
       "ZVO          0        0        0        0        0  \n",
       "ZYNE         0        0        0        0        0  \n",
       "\n",
       "[2704 rows x 61541 columns]"
      ],
      "text/html": "<div>\n<style scoped>\n    .dataframe tbody tr th:only-of-type {\n        vertical-align: middle;\n    }\n\n    .dataframe tbody tr th {\n        vertical-align: top;\n    }\n\n    .dataframe thead th {\n        text-align: right;\n    }\n</style>\n<table border=\"1\" class=\"dataframe\">\n  <thead>\n    <tr style=\"text-align: right;\">\n      <th></th>\n      <th>52</th>\n      <th>56</th>\n      <th>67</th>\n      <th>73</th>\n      <th>91</th>\n      <th>157</th>\n      <th>323</th>\n      <th>377</th>\n      <th>387</th>\n      <th>403</th>\n      <th>...</th>\n      <th>2392139</th>\n      <th>2392197</th>\n      <th>2392242</th>\n      <th>2392254</th>\n      <th>2392328</th>\n      <th>2392344</th>\n      <th>2392413</th>\n      <th>2392510</th>\n      <th>2392539</th>\n      <th>2392573</th>\n    </tr>\n  </thead>\n  <tbody>\n    <tr>\n      <th>A</th>\n      <td>0</td>\n      <td>0</td>\n      <td>0</td>\n      <td>0</td>\n      <td>0</td>\n      <td>0</td>\n      <td>0</td>\n      <td>0</td>\n      <td>0</td>\n      <td>0</td>\n      <td>...</td>\n      <td>0</td>\n      <td>0</td>\n      <td>0</td>\n      <td>0</td>\n      <td>0</td>\n      <td>0</td>\n      <td>0</td>\n      <td>0</td>\n      <td>0</td>\n      <td>0</td>\n    </tr>\n    <tr>\n      <th>AA</th>\n      <td>0</td>\n      <td>0</td>\n      <td>0</td>\n      <td>0</td>\n      <td>0</td>\n      <td>0</td>\n      <td>0</td>\n      <td>0</td>\n      <td>0</td>\n      <td>0</td>\n      <td>...</td>\n      <td>0</td>\n      <td>0</td>\n      <td>0</td>\n      <td>0</td>\n      <td>0</td>\n      <td>0</td>\n      <td>0</td>\n      <td>0</td>\n      <td>0</td>\n      <td>0</td>\n    </tr>\n    <tr>\n      <th>AACQ</th>\n      <td>0</td>\n      <td>0</td>\n      <td>0</td>\n      <td>0</td>\n      <td>0</td>\n      <td>0</td>\n      <td>0</td>\n      <td>0</td>\n      <td>0</td>\n      <td>0</td>\n      <td>...</td>\n      <td>0</td>\n      <td>0</td>\n      <td>0</td>\n      <td>0</td>\n      <td>0</td>\n      <td>0</td>\n      <td>0</td>\n      <td>0</td>\n      <td>0</td>\n      <td>0</td>\n    </tr>\n    <tr>\n      <th>AACQU</th>\n      <td>0</td>\n      <td>0</td>\n      <td>0</td>\n      <td>0</td>\n      <td>0</td>\n      <td>0</td>\n      <td>0</td>\n      <td>0</td>\n      <td>0</td>\n      <td>0</td>\n      <td>...</td>\n      <td>0</td>\n      <td>0</td>\n      <td>0</td>\n      <td>0</td>\n      <td>0</td>\n      <td>0</td>\n      <td>0</td>\n      <td>0</td>\n      <td>0</td>\n      <td>0</td>\n    </tr>\n    <tr>\n      <th>AAL</th>\n      <td>0</td>\n      <td>0</td>\n      <td>0</td>\n      <td>0</td>\n      <td>0</td>\n      <td>0</td>\n      <td>0</td>\n      <td>0</td>\n      <td>0</td>\n      <td>0</td>\n      <td>...</td>\n      <td>1</td>\n      <td>0</td>\n      <td>0</td>\n      <td>0</td>\n      <td>0</td>\n      <td>0</td>\n      <td>0</td>\n      <td>0</td>\n      <td>0</td>\n      <td>0</td>\n    </tr>\n    <tr>\n      <th>...</th>\n      <td>...</td>\n      <td>...</td>\n      <td>...</td>\n      <td>...</td>\n      <td>...</td>\n      <td>...</td>\n      <td>...</td>\n      <td>...</td>\n      <td>...</td>\n      <td>...</td>\n      <td>...</td>\n      <td>...</td>\n      <td>...</td>\n      <td>...</td>\n      <td>...</td>\n      <td>...</td>\n      <td>...</td>\n      <td>...</td>\n      <td>...</td>\n      <td>...</td>\n      <td>...</td>\n    </tr>\n    <tr>\n      <th>ZTS</th>\n      <td>0</td>\n      <td>0</td>\n      <td>0</td>\n      <td>0</td>\n      <td>0</td>\n      <td>0</td>\n      <td>0</td>\n      <td>0</td>\n      <td>0</td>\n      <td>0</td>\n      <td>...</td>\n      <td>0</td>\n      <td>0</td>\n      <td>0</td>\n      <td>0</td>\n      <td>0</td>\n      <td>0</td>\n      <td>0</td>\n      <td>0</td>\n      <td>0</td>\n      <td>0</td>\n    </tr>\n    <tr>\n      <th>ZUMZ</th>\n      <td>0</td>\n      <td>0</td>\n      <td>0</td>\n      <td>0</td>\n      <td>0</td>\n      <td>0</td>\n      <td>0</td>\n      <td>0</td>\n      <td>0</td>\n      <td>0</td>\n      <td>...</td>\n      <td>0</td>\n      <td>0</td>\n      <td>0</td>\n      <td>0</td>\n      <td>0</td>\n      <td>0</td>\n      <td>0</td>\n      <td>0</td>\n      <td>0</td>\n      <td>0</td>\n    </tr>\n    <tr>\n      <th>ZUO</th>\n      <td>0</td>\n      <td>0</td>\n      <td>0</td>\n      <td>0</td>\n      <td>0</td>\n      <td>0</td>\n      <td>0</td>\n      <td>0</td>\n      <td>0</td>\n      <td>0</td>\n      <td>...</td>\n      <td>0</td>\n      <td>0</td>\n      <td>0</td>\n      <td>0</td>\n      <td>0</td>\n      <td>0</td>\n      <td>0</td>\n      <td>0</td>\n      <td>0</td>\n      <td>0</td>\n    </tr>\n    <tr>\n      <th>ZVO</th>\n      <td>0</td>\n      <td>0</td>\n      <td>0</td>\n      <td>0</td>\n      <td>0</td>\n      <td>0</td>\n      <td>0</td>\n      <td>0</td>\n      <td>0</td>\n      <td>0</td>\n      <td>...</td>\n      <td>0</td>\n      <td>0</td>\n      <td>0</td>\n      <td>0</td>\n      <td>0</td>\n      <td>0</td>\n      <td>0</td>\n      <td>0</td>\n      <td>0</td>\n      <td>0</td>\n    </tr>\n    <tr>\n      <th>ZYNE</th>\n      <td>0</td>\n      <td>0</td>\n      <td>0</td>\n      <td>0</td>\n      <td>0</td>\n      <td>0</td>\n      <td>0</td>\n      <td>0</td>\n      <td>0</td>\n      <td>0</td>\n      <td>...</td>\n      <td>0</td>\n      <td>0</td>\n      <td>0</td>\n      <td>0</td>\n      <td>0</td>\n      <td>0</td>\n      <td>0</td>\n      <td>0</td>\n      <td>0</td>\n      <td>0</td>\n    </tr>\n  </tbody>\n</table>\n<p>2704 rows × 61541 columns</p>\n</div>"
     },
     "metadata": {},
     "execution_count": 16
    }
   ],
   "source": [
    "onehotdf"
   ]
  },
  {
   "cell_type": "code",
   "execution_count": 27,
   "metadata": {},
   "outputs": [],
   "source": [
    "from scipy import sparse\n",
    "import networkx as nx\n",
    "\n",
    "matrix = onehotdf.to_numpy()\n",
    "sparsematrix = sparse.csr_matrix(matrix)\n",
    "\n",
    "adjacencyframe = pd.DataFrame(sparsematrix.dot(onehotdf.T), columns = onehotdf.index)\n",
    "adjacencyframe.set_index(onehotdf.index, inplace= True)"
   ]
  },
  {
   "cell_type": "code",
   "execution_count": 29,
   "metadata": {},
   "outputs": [],
   "source": [
    "G = nx.from_pandas_adjacency(adjacencyframe)"
   ]
  },
  {
   "cell_type": "code",
   "execution_count": 30,
   "metadata": {},
   "outputs": [],
   "source": [
    "pos = nx.spring_layout(G)"
   ]
  },
  {
   "cell_type": "code",
   "execution_count": 33,
   "metadata": {},
   "outputs": [],
   "source": [
    "import plotly.offline as py\n",
    "import plotly.graph_objects as go"
   ]
  },
  {
   "cell_type": "code",
   "execution_count": 37,
   "metadata": {},
   "outputs": [],
   "source": [
    "node_trace = go.Scatter(x         = [],\n",
    "                        y         = [],\n",
    "                        text      = [],\n",
    "                        textposition = \"top center\",\n",
    "                        textfont_size = 10,\n",
    "                        mode      = 'markers+text',\n",
    "                        hoverinfo = 'none',\n",
    "                        marker    = dict(color = [],\n",
    "                                         size  = [],\n",
    "                                         line  = None))\n",
    "\n",
    "for node in G.nodes():\n",
    "    x, y = pos[node]\n",
    "    node_trace['x'] += tuple([x])\n",
    "    node_trace['y'] += tuple([y])\n",
    "    node_trace['marker']['color'] += tuple(['cornflowerblue'])\n",
    "    node_trace['text'] += tuple(['<b>' + node + '</b>'])"
   ]
  },
  {
   "cell_type": "code",
   "execution_count": 38,
   "metadata": {},
   "outputs": [],
   "source": [
    "def make_edge(x, y, text, width):\n",
    "    return  go.Scatter(x         = x,\n",
    "                       y         = y,\n",
    "                       line      = dict(width = width,\n",
    "                                   color = 'cornflowerblue'),\n",
    "                       hoverinfo = 'text',\n",
    "                       text      = ([text]),\n",
    "                       mode      = 'lines')"
   ]
  },
  {
   "cell_type": "code",
   "execution_count": 55,
   "metadata": {},
   "outputs": [],
   "source": [
    "edge_trace = []\n",
    "for edge in G.edges():\n",
    "    \n",
    "    if G.edges()[edge]['weight'] > 0:\n",
    "        char_1 = edge[0]\n",
    "        char_2 = edge[1]\n",
    "    x0, y0 = pos[char_1]\n",
    "    x1, y1 = pos[char_2]\n",
    "    text   = 'test'\n",
    "        \n",
    "    trace  = make_edge([x0, x1, None], [y0, y1, None], text, \n",
    "                    width = 0.3*G.edges()[edge]['weight']**1.75)\n",
    "    edge_trace.append(trace)"
   ]
  },
  {
   "cell_type": "code",
   "execution_count": 57,
   "metadata": {},
   "outputs": [],
   "source": [
    "# Customize layout\n",
    "layout = go.Layout(\n",
    "    paper_bgcolor='rgba(0,0,0,0)', # transparent background\n",
    "    plot_bgcolor='rgba(0,0,0,0)', # transparent 2nd background\n",
    "    xaxis =  {'showgrid': False, 'zeroline': False}, # no gridlines\n",
    "    yaxis = {'showgrid': False, 'zeroline': False}, # no gridlines\n",
    ")\n",
    "# Create figure\n",
    "fig = go.Figure(layout = layout)\n",
    "# Add all edge traces\n",
    "for trace in edge_trace:\n",
    "    fig.add_trace(trace)\n",
    "# Add node trace\n",
    "fig.add_trace(node_trace)\n",
    "# Remove legend\n",
    "fig.update_layout(showlegend = False)\n",
    "# Remove tick labels\n",
    "fig.update_xaxes(showticklabels = False)\n",
    "fig.update_yaxes(showticklabels = False)\n",
    "# Show figure\n",
    "fig.write_html('adjacency.html')"
   ]
  },
  {
   "cell_type": "code",
   "execution_count": null,
   "metadata": {},
   "outputs": [],
   "source": []
  }
 ]
}