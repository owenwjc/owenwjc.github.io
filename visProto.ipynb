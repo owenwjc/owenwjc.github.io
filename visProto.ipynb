{
 "metadata": {
  "language_info": {
   "codemirror_mode": {
    "name": "ipython",
    "version": 3
   },
   "file_extension": ".py",
   "mimetype": "text/x-python",
   "name": "python",
   "nbconvert_exporter": "python",
   "pygments_lexer": "ipython3",
   "version": "3.8.5-final"
  },
  "orig_nbformat": 2,
  "kernelspec": {
   "name": "python3",
   "display_name": "Python 3.8.5 64-bit ('base': conda)",
   "metadata": {
    "interpreter": {
     "hash": "34e8fc32436ce365501cba790e25a8b100775edfa54701b9b602bd66f962431f"
    }
   }
  }
 },
 "nbformat": 4,
 "nbformat_minor": 2,
 "cells": [
  {
   "cell_type": "code",
   "execution_count": 1,
   "metadata": {},
   "outputs": [],
   "source": [
    "import pandas as pd\n",
    "import pymongo\n",
    "from pymongo import MongoClient\n",
    "import json"
   ]
  },
  {
   "cell_type": "code",
   "execution_count": 2,
   "metadata": {},
   "outputs": [],
   "source": [
    "client = MongoClient('localhost', 27017)\n",
    "db = client.db\n",
    "comments = db.comments"
   ]
  },
  {
   "cell_type": "code",
   "execution_count": 3,
   "metadata": {},
   "outputs": [],
   "source": [
    "commentdf = pd.DataFrame(comments.find())"
   ]
  },
  {
   "cell_type": "code",
   "execution_count": 4,
   "metadata": {},
   "outputs": [],
   "source": [
    "def string_to_list(string):\n",
    "    return json.loads(string)\n",
    "\n",
    "def get_len(list):\n",
    "    return len(list)"
   ]
  },
  {
   "cell_type": "code",
   "execution_count": 5,
   "metadata": {},
   "outputs": [],
   "source": [
    "commentdf['stocks'] = commentdf['stocks'].apply(string_to_list)"
   ]
  },
  {
   "cell_type": "code",
   "execution_count": 6,
   "metadata": {},
   "outputs": [],
   "source": [
    "commentdf['size'] = commentdf['stocks'].apply(get_len)"
   ]
  },
  {
   "cell_type": "code",
   "execution_count": 7,
   "metadata": {},
   "outputs": [
    {
     "output_type": "execute_result",
     "data": {
      "text/plain": [
       "                              _id created_utc  \\\n",
       "7        5fac60f84f1d40506940af77  1569935192   \n",
       "8        5fac60f84f1d40506940af78  1569945346   \n",
       "10       5fac60f84f1d40506940af7a  1569941510   \n",
       "22       5fac60f84f1d40506940af87  1569940942   \n",
       "23       5fac60f84f1d40506940af88  1569959935   \n",
       "...                           ...         ...   \n",
       "2392576  5faf404fa6460ea208f39e39  1601507530   \n",
       "2392581  5faf404fa6460ea208f39e3e  1601529664   \n",
       "2392612  5faf404fa6460ea208f39e5e  1601514509   \n",
       "2392615  5faf404fa6460ea208f39e61  1601546600   \n",
       "2392618  5faf404fa6460ea208f39e64  1601517297   \n",
       "\n",
       "                                                      body score sentiment  \\\n",
       "7        Any plays for today? Asides from hoping SPY is...     1   neutral   \n",
       "8        That would be amazing. \\n\\nCmon bear HFs, post...     3   bullish   \n",
       "10                                MSFT calls for tomorrow?     2   bullish   \n",
       "22             AAPL single handedly holding up the indexes     3   bullish   \n",
       "23       You heard it here first: MSFT calls are a bad ...     1   bearish   \n",
       "...                                                    ...   ...       ...   \n",
       "2392576                                               $RGR     2   neutral   \n",
       "2392581  Cuz \"Sell the news\" - I don't make the stock m...    -2   bearish   \n",
       "2392612          Descending triangle on ZM. Puts will zoom     6   bearish   \n",
       "2392615  I looked at MFA and thought it was ok, except ...     2   neutral   \n",
       "2392618  Long term I’m a bull but puts on DKNG at ATH w...     1   bearish   \n",
       "\n",
       "         stocks  size  \n",
       "7         [SPY]     1  \n",
       "8        [AAPL]     1  \n",
       "10       [MSFT]     1  \n",
       "22       [AAPL]     1  \n",
       "23       [MSFT]     1  \n",
       "...         ...   ...  \n",
       "2392576   [RGR]     1  \n",
       "2392581   [CUZ]     1  \n",
       "2392612    [ZM]     1  \n",
       "2392615   [MFA]     1  \n",
       "2392618  [DKNG]     1  \n",
       "\n",
       "[431634 rows x 7 columns]"
      ],
      "text/html": "<div>\n<style scoped>\n    .dataframe tbody tr th:only-of-type {\n        vertical-align: middle;\n    }\n\n    .dataframe tbody tr th {\n        vertical-align: top;\n    }\n\n    .dataframe thead th {\n        text-align: right;\n    }\n</style>\n<table border=\"1\" class=\"dataframe\">\n  <thead>\n    <tr style=\"text-align: right;\">\n      <th></th>\n      <th>_id</th>\n      <th>created_utc</th>\n      <th>body</th>\n      <th>score</th>\n      <th>sentiment</th>\n      <th>stocks</th>\n      <th>size</th>\n    </tr>\n  </thead>\n  <tbody>\n    <tr>\n      <th>7</th>\n      <td>5fac60f84f1d40506940af77</td>\n      <td>1569935192</td>\n      <td>Any plays for today? Asides from hoping SPY is...</td>\n      <td>1</td>\n      <td>neutral</td>\n      <td>[SPY]</td>\n      <td>1</td>\n    </tr>\n    <tr>\n      <th>8</th>\n      <td>5fac60f84f1d40506940af78</td>\n      <td>1569945346</td>\n      <td>That would be amazing. \\n\\nCmon bear HFs, post...</td>\n      <td>3</td>\n      <td>bullish</td>\n      <td>[AAPL]</td>\n      <td>1</td>\n    </tr>\n    <tr>\n      <th>10</th>\n      <td>5fac60f84f1d40506940af7a</td>\n      <td>1569941510</td>\n      <td>MSFT calls for tomorrow?</td>\n      <td>2</td>\n      <td>bullish</td>\n      <td>[MSFT]</td>\n      <td>1</td>\n    </tr>\n    <tr>\n      <th>22</th>\n      <td>5fac60f84f1d40506940af87</td>\n      <td>1569940942</td>\n      <td>AAPL single handedly holding up the indexes</td>\n      <td>3</td>\n      <td>bullish</td>\n      <td>[AAPL]</td>\n      <td>1</td>\n    </tr>\n    <tr>\n      <th>23</th>\n      <td>5fac60f84f1d40506940af88</td>\n      <td>1569959935</td>\n      <td>You heard it here first: MSFT calls are a bad ...</td>\n      <td>1</td>\n      <td>bearish</td>\n      <td>[MSFT]</td>\n      <td>1</td>\n    </tr>\n    <tr>\n      <th>...</th>\n      <td>...</td>\n      <td>...</td>\n      <td>...</td>\n      <td>...</td>\n      <td>...</td>\n      <td>...</td>\n      <td>...</td>\n    </tr>\n    <tr>\n      <th>2392576</th>\n      <td>5faf404fa6460ea208f39e39</td>\n      <td>1601507530</td>\n      <td>$RGR</td>\n      <td>2</td>\n      <td>neutral</td>\n      <td>[RGR]</td>\n      <td>1</td>\n    </tr>\n    <tr>\n      <th>2392581</th>\n      <td>5faf404fa6460ea208f39e3e</td>\n      <td>1601529664</td>\n      <td>Cuz \"Sell the news\" - I don't make the stock m...</td>\n      <td>-2</td>\n      <td>bearish</td>\n      <td>[CUZ]</td>\n      <td>1</td>\n    </tr>\n    <tr>\n      <th>2392612</th>\n      <td>5faf404fa6460ea208f39e5e</td>\n      <td>1601514509</td>\n      <td>Descending triangle on ZM. Puts will zoom</td>\n      <td>6</td>\n      <td>bearish</td>\n      <td>[ZM]</td>\n      <td>1</td>\n    </tr>\n    <tr>\n      <th>2392615</th>\n      <td>5faf404fa6460ea208f39e61</td>\n      <td>1601546600</td>\n      <td>I looked at MFA and thought it was ok, except ...</td>\n      <td>2</td>\n      <td>neutral</td>\n      <td>[MFA]</td>\n      <td>1</td>\n    </tr>\n    <tr>\n      <th>2392618</th>\n      <td>5faf404fa6460ea208f39e64</td>\n      <td>1601517297</td>\n      <td>Long term I’m a bull but puts on DKNG at ATH w...</td>\n      <td>1</td>\n      <td>bearish</td>\n      <td>[DKNG]</td>\n      <td>1</td>\n    </tr>\n  </tbody>\n</table>\n<p>431634 rows × 7 columns</p>\n</div>"
     },
     "metadata": {},
     "execution_count": 7
    }
   ],
   "source": [
    "commentdf.loc[commentdf['size']!=0]"
   ]
  },
  {
   "cell_type": "code",
   "execution_count": 8,
   "metadata": {},
   "outputs": [],
   "source": [
    "stockdf = commentdf.loc[commentdf['size'] != 0]"
   ]
  },
  {
   "cell_type": "code",
   "execution_count": 9,
   "metadata": {},
   "outputs": [],
   "source": [
    "from sklearn.preprocessing import MultiLabelBinarizer\n",
    "s = stockdf['stocks']\n",
    "mlb = MultiLabelBinarizer()\n",
    "onehotdf = pd.DataFrame(mlb.fit_transform(s), columns = mlb.classes_, index = stockdf.index)"
   ]
  },
  {
   "cell_type": "code",
   "execution_count": 10,
   "metadata": {},
   "outputs": [
    {
     "output_type": "execute_result",
     "data": {
      "text/plain": [
       "         A  AA  AACQ  AACQU  AAL  AAN  AAOI  AAP  AAPL  AAT  ...  ZOM  ZS  \\\n",
       "7        0   0     0      0    0    0     0    0     0    0  ...    0   0   \n",
       "8        0   0     0      0    0    0     0    0     1    0  ...    0   0   \n",
       "10       0   0     0      0    0    0     0    0     0    0  ...    0   0   \n",
       "22       0   0     0      0    0    0     0    0     1    0  ...    0   0   \n",
       "23       0   0     0      0    0    0     0    0     0    0  ...    0   0   \n",
       "...     ..  ..   ...    ...  ...  ...   ...  ...   ...  ...  ...  ...  ..   \n",
       "2392576  0   0     0      0    0    0     0    0     0    0  ...    0   0   \n",
       "2392581  0   0     0      0    0    0     0    0     0    0  ...    0   0   \n",
       "2392612  0   0     0      0    0    0     0    0     0    0  ...    0   0   \n",
       "2392615  0   0     0      0    0    0     0    0     0    0  ...    0   0   \n",
       "2392618  0   0     0      0    0    0     0    0     0    0  ...    0   0   \n",
       "\n",
       "         ZSAN  ZTO  ZTS  ZUMZ  ZUO  ZVO  ZYNE  ZYXI  \n",
       "7           0    0    0     0    0    0     0     0  \n",
       "8           0    0    0     0    0    0     0     0  \n",
       "10          0    0    0     0    0    0     0     0  \n",
       "22          0    0    0     0    0    0     0     0  \n",
       "23          0    0    0     0    0    0     0     0  \n",
       "...       ...  ...  ...   ...  ...  ...   ...   ...  \n",
       "2392576     0    0    0     0    0    0     0     0  \n",
       "2392581     0    0    0     0    0    0     0     0  \n",
       "2392612     0    0    0     0    0    0     0     0  \n",
       "2392615     0    0    0     0    0    0     0     0  \n",
       "2392618     0    0    0     0    0    0     0     0  \n",
       "\n",
       "[431634 rows x 3503 columns]"
      ],
      "text/html": "<div>\n<style scoped>\n    .dataframe tbody tr th:only-of-type {\n        vertical-align: middle;\n    }\n\n    .dataframe tbody tr th {\n        vertical-align: top;\n    }\n\n    .dataframe thead th {\n        text-align: right;\n    }\n</style>\n<table border=\"1\" class=\"dataframe\">\n  <thead>\n    <tr style=\"text-align: right;\">\n      <th></th>\n      <th>A</th>\n      <th>AA</th>\n      <th>AACQ</th>\n      <th>AACQU</th>\n      <th>AAL</th>\n      <th>AAN</th>\n      <th>AAOI</th>\n      <th>AAP</th>\n      <th>AAPL</th>\n      <th>AAT</th>\n      <th>...</th>\n      <th>ZOM</th>\n      <th>ZS</th>\n      <th>ZSAN</th>\n      <th>ZTO</th>\n      <th>ZTS</th>\n      <th>ZUMZ</th>\n      <th>ZUO</th>\n      <th>ZVO</th>\n      <th>ZYNE</th>\n      <th>ZYXI</th>\n    </tr>\n  </thead>\n  <tbody>\n    <tr>\n      <th>7</th>\n      <td>0</td>\n      <td>0</td>\n      <td>0</td>\n      <td>0</td>\n      <td>0</td>\n      <td>0</td>\n      <td>0</td>\n      <td>0</td>\n      <td>0</td>\n      <td>0</td>\n      <td>...</td>\n      <td>0</td>\n      <td>0</td>\n      <td>0</td>\n      <td>0</td>\n      <td>0</td>\n      <td>0</td>\n      <td>0</td>\n      <td>0</td>\n      <td>0</td>\n      <td>0</td>\n    </tr>\n    <tr>\n      <th>8</th>\n      <td>0</td>\n      <td>0</td>\n      <td>0</td>\n      <td>0</td>\n      <td>0</td>\n      <td>0</td>\n      <td>0</td>\n      <td>0</td>\n      <td>1</td>\n      <td>0</td>\n      <td>...</td>\n      <td>0</td>\n      <td>0</td>\n      <td>0</td>\n      <td>0</td>\n      <td>0</td>\n      <td>0</td>\n      <td>0</td>\n      <td>0</td>\n      <td>0</td>\n      <td>0</td>\n    </tr>\n    <tr>\n      <th>10</th>\n      <td>0</td>\n      <td>0</td>\n      <td>0</td>\n      <td>0</td>\n      <td>0</td>\n      <td>0</td>\n      <td>0</td>\n      <td>0</td>\n      <td>0</td>\n      <td>0</td>\n      <td>...</td>\n      <td>0</td>\n      <td>0</td>\n      <td>0</td>\n      <td>0</td>\n      <td>0</td>\n      <td>0</td>\n      <td>0</td>\n      <td>0</td>\n      <td>0</td>\n      <td>0</td>\n    </tr>\n    <tr>\n      <th>22</th>\n      <td>0</td>\n      <td>0</td>\n      <td>0</td>\n      <td>0</td>\n      <td>0</td>\n      <td>0</td>\n      <td>0</td>\n      <td>0</td>\n      <td>1</td>\n      <td>0</td>\n      <td>...</td>\n      <td>0</td>\n      <td>0</td>\n      <td>0</td>\n      <td>0</td>\n      <td>0</td>\n      <td>0</td>\n      <td>0</td>\n      <td>0</td>\n      <td>0</td>\n      <td>0</td>\n    </tr>\n    <tr>\n      <th>23</th>\n      <td>0</td>\n      <td>0</td>\n      <td>0</td>\n      <td>0</td>\n      <td>0</td>\n      <td>0</td>\n      <td>0</td>\n      <td>0</td>\n      <td>0</td>\n      <td>0</td>\n      <td>...</td>\n      <td>0</td>\n      <td>0</td>\n      <td>0</td>\n      <td>0</td>\n      <td>0</td>\n      <td>0</td>\n      <td>0</td>\n      <td>0</td>\n      <td>0</td>\n      <td>0</td>\n    </tr>\n    <tr>\n      <th>...</th>\n      <td>...</td>\n      <td>...</td>\n      <td>...</td>\n      <td>...</td>\n      <td>...</td>\n      <td>...</td>\n      <td>...</td>\n      <td>...</td>\n      <td>...</td>\n      <td>...</td>\n      <td>...</td>\n      <td>...</td>\n      <td>...</td>\n      <td>...</td>\n      <td>...</td>\n      <td>...</td>\n      <td>...</td>\n      <td>...</td>\n      <td>...</td>\n      <td>...</td>\n      <td>...</td>\n    </tr>\n    <tr>\n      <th>2392576</th>\n      <td>0</td>\n      <td>0</td>\n      <td>0</td>\n      <td>0</td>\n      <td>0</td>\n      <td>0</td>\n      <td>0</td>\n      <td>0</td>\n      <td>0</td>\n      <td>0</td>\n      <td>...</td>\n      <td>0</td>\n      <td>0</td>\n      <td>0</td>\n      <td>0</td>\n      <td>0</td>\n      <td>0</td>\n      <td>0</td>\n      <td>0</td>\n      <td>0</td>\n      <td>0</td>\n    </tr>\n    <tr>\n      <th>2392581</th>\n      <td>0</td>\n      <td>0</td>\n      <td>0</td>\n      <td>0</td>\n      <td>0</td>\n      <td>0</td>\n      <td>0</td>\n      <td>0</td>\n      <td>0</td>\n      <td>0</td>\n      <td>...</td>\n      <td>0</td>\n      <td>0</td>\n      <td>0</td>\n      <td>0</td>\n      <td>0</td>\n      <td>0</td>\n      <td>0</td>\n      <td>0</td>\n      <td>0</td>\n      <td>0</td>\n    </tr>\n    <tr>\n      <th>2392612</th>\n      <td>0</td>\n      <td>0</td>\n      <td>0</td>\n      <td>0</td>\n      <td>0</td>\n      <td>0</td>\n      <td>0</td>\n      <td>0</td>\n      <td>0</td>\n      <td>0</td>\n      <td>...</td>\n      <td>0</td>\n      <td>0</td>\n      <td>0</td>\n      <td>0</td>\n      <td>0</td>\n      <td>0</td>\n      <td>0</td>\n      <td>0</td>\n      <td>0</td>\n      <td>0</td>\n    </tr>\n    <tr>\n      <th>2392615</th>\n      <td>0</td>\n      <td>0</td>\n      <td>0</td>\n      <td>0</td>\n      <td>0</td>\n      <td>0</td>\n      <td>0</td>\n      <td>0</td>\n      <td>0</td>\n      <td>0</td>\n      <td>...</td>\n      <td>0</td>\n      <td>0</td>\n      <td>0</td>\n      <td>0</td>\n      <td>0</td>\n      <td>0</td>\n      <td>0</td>\n      <td>0</td>\n      <td>0</td>\n      <td>0</td>\n    </tr>\n    <tr>\n      <th>2392618</th>\n      <td>0</td>\n      <td>0</td>\n      <td>0</td>\n      <td>0</td>\n      <td>0</td>\n      <td>0</td>\n      <td>0</td>\n      <td>0</td>\n      <td>0</td>\n      <td>0</td>\n      <td>...</td>\n      <td>0</td>\n      <td>0</td>\n      <td>0</td>\n      <td>0</td>\n      <td>0</td>\n      <td>0</td>\n      <td>0</td>\n      <td>0</td>\n      <td>0</td>\n      <td>0</td>\n    </tr>\n  </tbody>\n</table>\n<p>431634 rows × 3503 columns</p>\n</div>"
     },
     "metadata": {},
     "execution_count": 10
    }
   ],
   "source": [
    "onehotdf"
   ]
  },
  {
   "cell_type": "code",
   "execution_count": 11,
   "metadata": {},
   "outputs": [],
   "source": [
    "connectionsdict = onehotdf.sum(axis = 1).to_dict()"
   ]
  },
  {
   "cell_type": "code",
   "execution_count": 12,
   "metadata": {},
   "outputs": [],
   "source": [
    "connectionsdict = {k:v for k, v in connectionsdict.items() if v != 1}"
   ]
  },
  {
   "cell_type": "code",
   "execution_count": 21,
   "metadata": {},
   "outputs": [],
   "source": [
    "onehotdf = onehotdf[onehotdf.index.isin(connectionsdict.keys())]"
   ]
  },
  {
   "cell_type": "code",
   "execution_count": 22,
   "metadata": {},
   "outputs": [
    {
     "output_type": "execute_result",
     "data": {
      "text/plain": [
       "         A  AA  AACQ  AACQU  AAL  AAN  AAOI  AAP  AAPL  AAT  ...  ZS  ZSAN  \\\n",
       "52       0   0     0      0    0    0     0    0     0    0  ...   0     0   \n",
       "56       0   0     0      0    0    0     0    0     0    0  ...   0     0   \n",
       "67       0   0     0      0    0    0     0    0     0    0  ...   0     0   \n",
       "73       0   0     0      0    0    0     0    0     1    0  ...   0     0   \n",
       "91       0   0     0      0    0    0     0    0     0    0  ...   0     0   \n",
       "...     ..  ..   ...    ...  ...  ...   ...  ...   ...  ...  ...  ..   ...   \n",
       "2392344  0   0     0      0    0    0     0    0     1    0  ...   0     0   \n",
       "2392413  0   0     0      0    0    0     0    0     0    0  ...   0     0   \n",
       "2392510  0   0     0      0    0    0     0    0     0    0  ...   0     0   \n",
       "2392539  0   0     0      0    0    0     0    0     0    0  ...   0     0   \n",
       "2392573  0   0     0      0    0    0     0    0     1    0  ...   0     0   \n",
       "\n",
       "         ZTO  ZTS  ZUMZ  ZUO  ZVO  ZYNE  ZYXI  BRK  \n",
       "52         0    0     0    0    0     0     0    0  \n",
       "56         0    0     0    0    0     0     0    0  \n",
       "67         0    0     0    0    0     0     0    0  \n",
       "73         0    0     0    0    0     0     0    0  \n",
       "91         0    0     0    0    0     0     0    0  \n",
       "...      ...  ...   ...  ...  ...   ...   ...  ...  \n",
       "2392344    0    0     0    0    0     0     0    0  \n",
       "2392413    0    0     0    0    0     0     0    0  \n",
       "2392510    0    0     0    0    0     0     0    0  \n",
       "2392539    0    0     0    0    0     0     0    0  \n",
       "2392573    0    0     0    0    0     0     0    0  \n",
       "\n",
       "[61541 rows x 3502 columns]"
      ],
      "text/html": "<div>\n<style scoped>\n    .dataframe tbody tr th:only-of-type {\n        vertical-align: middle;\n    }\n\n    .dataframe tbody tr th {\n        vertical-align: top;\n    }\n\n    .dataframe thead th {\n        text-align: right;\n    }\n</style>\n<table border=\"1\" class=\"dataframe\">\n  <thead>\n    <tr style=\"text-align: right;\">\n      <th></th>\n      <th>A</th>\n      <th>AA</th>\n      <th>AACQ</th>\n      <th>AACQU</th>\n      <th>AAL</th>\n      <th>AAN</th>\n      <th>AAOI</th>\n      <th>AAP</th>\n      <th>AAPL</th>\n      <th>AAT</th>\n      <th>...</th>\n      <th>ZS</th>\n      <th>ZSAN</th>\n      <th>ZTO</th>\n      <th>ZTS</th>\n      <th>ZUMZ</th>\n      <th>ZUO</th>\n      <th>ZVO</th>\n      <th>ZYNE</th>\n      <th>ZYXI</th>\n      <th>BRK</th>\n    </tr>\n  </thead>\n  <tbody>\n    <tr>\n      <th>52</th>\n      <td>0</td>\n      <td>0</td>\n      <td>0</td>\n      <td>0</td>\n      <td>0</td>\n      <td>0</td>\n      <td>0</td>\n      <td>0</td>\n      <td>0</td>\n      <td>0</td>\n      <td>...</td>\n      <td>0</td>\n      <td>0</td>\n      <td>0</td>\n      <td>0</td>\n      <td>0</td>\n      <td>0</td>\n      <td>0</td>\n      <td>0</td>\n      <td>0</td>\n      <td>0</td>\n    </tr>\n    <tr>\n      <th>56</th>\n      <td>0</td>\n      <td>0</td>\n      <td>0</td>\n      <td>0</td>\n      <td>0</td>\n      <td>0</td>\n      <td>0</td>\n      <td>0</td>\n      <td>0</td>\n      <td>0</td>\n      <td>...</td>\n      <td>0</td>\n      <td>0</td>\n      <td>0</td>\n      <td>0</td>\n      <td>0</td>\n      <td>0</td>\n      <td>0</td>\n      <td>0</td>\n      <td>0</td>\n      <td>0</td>\n    </tr>\n    <tr>\n      <th>67</th>\n      <td>0</td>\n      <td>0</td>\n      <td>0</td>\n      <td>0</td>\n      <td>0</td>\n      <td>0</td>\n      <td>0</td>\n      <td>0</td>\n      <td>0</td>\n      <td>0</td>\n      <td>...</td>\n      <td>0</td>\n      <td>0</td>\n      <td>0</td>\n      <td>0</td>\n      <td>0</td>\n      <td>0</td>\n      <td>0</td>\n      <td>0</td>\n      <td>0</td>\n      <td>0</td>\n    </tr>\n    <tr>\n      <th>73</th>\n      <td>0</td>\n      <td>0</td>\n      <td>0</td>\n      <td>0</td>\n      <td>0</td>\n      <td>0</td>\n      <td>0</td>\n      <td>0</td>\n      <td>1</td>\n      <td>0</td>\n      <td>...</td>\n      <td>0</td>\n      <td>0</td>\n      <td>0</td>\n      <td>0</td>\n      <td>0</td>\n      <td>0</td>\n      <td>0</td>\n      <td>0</td>\n      <td>0</td>\n      <td>0</td>\n    </tr>\n    <tr>\n      <th>91</th>\n      <td>0</td>\n      <td>0</td>\n      <td>0</td>\n      <td>0</td>\n      <td>0</td>\n      <td>0</td>\n      <td>0</td>\n      <td>0</td>\n      <td>0</td>\n      <td>0</td>\n      <td>...</td>\n      <td>0</td>\n      <td>0</td>\n      <td>0</td>\n      <td>0</td>\n      <td>0</td>\n      <td>0</td>\n      <td>0</td>\n      <td>0</td>\n      <td>0</td>\n      <td>0</td>\n    </tr>\n    <tr>\n      <th>...</th>\n      <td>...</td>\n      <td>...</td>\n      <td>...</td>\n      <td>...</td>\n      <td>...</td>\n      <td>...</td>\n      <td>...</td>\n      <td>...</td>\n      <td>...</td>\n      <td>...</td>\n      <td>...</td>\n      <td>...</td>\n      <td>...</td>\n      <td>...</td>\n      <td>...</td>\n      <td>...</td>\n      <td>...</td>\n      <td>...</td>\n      <td>...</td>\n      <td>...</td>\n      <td>...</td>\n    </tr>\n    <tr>\n      <th>2392344</th>\n      <td>0</td>\n      <td>0</td>\n      <td>0</td>\n      <td>0</td>\n      <td>0</td>\n      <td>0</td>\n      <td>0</td>\n      <td>0</td>\n      <td>1</td>\n      <td>0</td>\n      <td>...</td>\n      <td>0</td>\n      <td>0</td>\n      <td>0</td>\n      <td>0</td>\n      <td>0</td>\n      <td>0</td>\n      <td>0</td>\n      <td>0</td>\n      <td>0</td>\n      <td>0</td>\n    </tr>\n    <tr>\n      <th>2392413</th>\n      <td>0</td>\n      <td>0</td>\n      <td>0</td>\n      <td>0</td>\n      <td>0</td>\n      <td>0</td>\n      <td>0</td>\n      <td>0</td>\n      <td>0</td>\n      <td>0</td>\n      <td>...</td>\n      <td>0</td>\n      <td>0</td>\n      <td>0</td>\n      <td>0</td>\n      <td>0</td>\n      <td>0</td>\n      <td>0</td>\n      <td>0</td>\n      <td>0</td>\n      <td>0</td>\n    </tr>\n    <tr>\n      <th>2392510</th>\n      <td>0</td>\n      <td>0</td>\n      <td>0</td>\n      <td>0</td>\n      <td>0</td>\n      <td>0</td>\n      <td>0</td>\n      <td>0</td>\n      <td>0</td>\n      <td>0</td>\n      <td>...</td>\n      <td>0</td>\n      <td>0</td>\n      <td>0</td>\n      <td>0</td>\n      <td>0</td>\n      <td>0</td>\n      <td>0</td>\n      <td>0</td>\n      <td>0</td>\n      <td>0</td>\n    </tr>\n    <tr>\n      <th>2392539</th>\n      <td>0</td>\n      <td>0</td>\n      <td>0</td>\n      <td>0</td>\n      <td>0</td>\n      <td>0</td>\n      <td>0</td>\n      <td>0</td>\n      <td>0</td>\n      <td>0</td>\n      <td>...</td>\n      <td>0</td>\n      <td>0</td>\n      <td>0</td>\n      <td>0</td>\n      <td>0</td>\n      <td>0</td>\n      <td>0</td>\n      <td>0</td>\n      <td>0</td>\n      <td>0</td>\n    </tr>\n    <tr>\n      <th>2392573</th>\n      <td>0</td>\n      <td>0</td>\n      <td>0</td>\n      <td>0</td>\n      <td>0</td>\n      <td>0</td>\n      <td>0</td>\n      <td>0</td>\n      <td>1</td>\n      <td>0</td>\n      <td>...</td>\n      <td>0</td>\n      <td>0</td>\n      <td>0</td>\n      <td>0</td>\n      <td>0</td>\n      <td>0</td>\n      <td>0</td>\n      <td>0</td>\n      <td>0</td>\n      <td>0</td>\n    </tr>\n  </tbody>\n</table>\n<p>61541 rows × 3502 columns</p>\n</div>"
     },
     "metadata": {},
     "execution_count": 22
    }
   ],
   "source": [
    "onehotdf"
   ]
  },
  {
   "cell_type": "code",
   "execution_count": 23,
   "metadata": {},
   "outputs": [],
   "source": [
    "chorddict = onehotdf.sum(axis = 0).to_dict()"
   ]
  },
  {
   "cell_type": "code",
   "execution_count": 24,
   "metadata": {},
   "outputs": [],
   "source": [
    "chorddict = {key:val for key, val in chorddict.items() if val > 100}"
   ]
  },
  {
   "cell_type": "code",
   "execution_count": 25,
   "metadata": {},
   "outputs": [
    {
     "output_type": "execute_result",
     "data": {
      "text/plain": [
       "dict_keys(['AAL', 'AAPL', 'ACB', 'ADBE', 'ALL', 'ALLY', 'AM', 'AMC', 'AMD', 'AMZN', 'AN', 'ANY', 'AONE', 'APHA', 'APT', 'AT', 'ATVI', 'AZN', 'BA', 'BABA', 'BAC', 'BB', 'BE', 'BEST', 'BIG', 'BILL', 'BOX', 'BP', 'BRO', 'BUD', 'BY', 'BYND', 'CAT', 'CCL', 'CEO', 'CGC', 'CHGG', 'CHWY', 'CLDR', 'CMG', 'COST', 'COTY', 'CRM', 'CRWD', 'CSCO', 'CSOD', 'CVS', 'CVX', 'CZR', 'DAL', 'DBX', 'DDOG', 'DELL', 'DGLY', 'DHT', 'DIS', 'DKNG', 'DNOW', 'DOCU', 'DOW', 'DPZ', 'DTE', 'EA', 'EBAY', 'ENPH', 'ET', 'ETSY', 'EURN', 'EVER', 'FB', 'FDS', 'FDX', 'FL', 'FMCI', 'FOR', 'FORD', 'FOX', 'FREE', 'FSLY', 'GDP', 'GE', 'GILD', 'GL', 'GLG', 'GM', 'GME', 'GOLD', 'GOOG', 'GOOGL', 'GRUB', 'GS', 'HAS', 'HD', 'HE', 'HOME', 'HOPE', 'HPQ', 'HTZ', 'HUYA', 'IBM', 'INO', 'INTC', 'IQ', 'IVR', 'JBLU', 'JD', 'JNJ', 'JP', 'JPM', 'KIM', 'KO', 'KODK', 'KR', 'LIFE', 'LIVE', 'LL', 'LMT', 'LOGI', 'LOW', 'LULU', 'LUV', 'LVGO', 'LVS', 'LYFT', 'LYV', 'MA', 'MAN', 'MCD', 'MGM', 'MRNA', 'MRO', 'MS', 'MSFT', 'MTB', 'MU', 'NAT', 'NCLH', 'NDAQ', 'NET', 'NEXT', 'NFLX', 'NIO', 'NKE', 'NKLA', 'NOK', 'NOW', 'NRZ', 'NVAX', 'NVDA', 'NWS', 'NaN', 'OI', 'ONE', 'ORCL', 'OUT', 'OXY', 'PCG', 'PENN', 'PFE', 'PINS', 'PLAN', 'PLAY', 'PLUG', 'PM', 'PPT', 'PRPL', 'PTON', 'PUMP', 'PYPL', 'QCOM', 'QQQ', 'RCL', 'RE', 'REAL', 'RH', 'RKT', 'ROKU', 'RTX', 'RUN', 'SAVE', 'SBUX', 'SDC', 'SE', 'SGU', 'SHOP', 'SNAP', 'SNOW', 'SO', 'SPCE', 'SPG', 'SPOT', 'SPXC', 'SPY', 'SQ', 'SQQQ', 'SRNE', 'STAR          ', 'STAY', 'STNG', 'SWBI', 'T', 'TD', 'TDA', 'TDOC', 'TEAM', 'TECH', 'TELL', 'TGT', 'TIMB$', 'TISI', 'TLRY', 'TLT', 'TQQQ', 'TSLA', 'TSM', 'TTWO', 'TV', 'TWLO', 'TWO', 'TWTR', 'UAL', 'UBER', 'UI', 'ULTA', 'UPS', 'V', 'VALE', 'WFC', 'WMT', 'WORK', 'WWE', 'WYNN', 'XOM', 'ZM', 'ZS', 'BRK'])"
      ]
     },
     "metadata": {},
     "execution_count": 25
    }
   ],
   "source": [
    "chorddict.keys()"
   ]
  },
  {
   "cell_type": "code",
   "execution_count": 30,
   "metadata": {},
   "outputs": [],
   "source": [
    "nonMatrix = ['NaN', 'ACB', 'ALL', 'AM', 'AN', 'ANY', 'AONE', 'APT', 'AT', 'BB', 'BE', 'BEST', 'BIG', 'BILL', 'BOX', 'BRO', 'BY', 'CEO', 'DNOW', 'ET', 'EVER', 'FDS', 'FL', 'FOR', 'FREE', 'GDP', 'GL', 'HAS', 'HD', 'HE', 'HOME', 'HOPE', 'IQ', 'JP', 'KIM', 'LIFE', 'LIVE', 'LL', 'LOW', 'MAN', 'NEXT', 'NOW', 'OI', 'ONE', 'OUT', 'PLAN', 'PLAY', 'PM', 'PPT', 'PUMP', 'RE', 'REAL', 'RH', 'RTX', 'RUN', 'SAVE', 'SE', 'SGU', 'SO', 'SPXC', 'STAR          ', 'STAY', 'TDA', 'TEAM', 'TECH', 'TELL', 'TIMB$', 'TISI', 'TV', 'TWO', 'UI', 'TD', 'GLG']"
   ]
  },
  {
   "cell_type": "code",
   "execution_count": 27,
   "metadata": {},
   "outputs": [
    {
     "output_type": "error",
     "ename": "KeyError",
     "evalue": "'BRK.A'",
     "traceback": [
      "\u001b[0;31m---------------------------------------------------------------------------\u001b[0m",
      "\u001b[0;31mKeyError\u001b[0m                                  Traceback (most recent call last)",
      "\u001b[0;32m~/anaconda3/lib/python3.8/site-packages/pandas/core/indexes/base.py\u001b[0m in \u001b[0;36mget_loc\u001b[0;34m(self, key, method, tolerance)\u001b[0m\n\u001b[1;32m   2894\u001b[0m             \u001b[0;32mtry\u001b[0m\u001b[0;34m:\u001b[0m\u001b[0;34m\u001b[0m\u001b[0;34m\u001b[0m\u001b[0m\n\u001b[0;32m-> 2895\u001b[0;31m                 \u001b[0;32mreturn\u001b[0m \u001b[0mself\u001b[0m\u001b[0;34m.\u001b[0m\u001b[0m_engine\u001b[0m\u001b[0;34m.\u001b[0m\u001b[0mget_loc\u001b[0m\u001b[0;34m(\u001b[0m\u001b[0mcasted_key\u001b[0m\u001b[0;34m)\u001b[0m\u001b[0;34m\u001b[0m\u001b[0;34m\u001b[0m\u001b[0m\n\u001b[0m\u001b[1;32m   2896\u001b[0m             \u001b[0;32mexcept\u001b[0m \u001b[0mKeyError\u001b[0m \u001b[0;32mas\u001b[0m \u001b[0merr\u001b[0m\u001b[0;34m:\u001b[0m\u001b[0;34m\u001b[0m\u001b[0;34m\u001b[0m\u001b[0m\n",
      "\u001b[0;32mpandas/_libs/index.pyx\u001b[0m in \u001b[0;36mpandas._libs.index.IndexEngine.get_loc\u001b[0;34m()\u001b[0m\n",
      "\u001b[0;32mpandas/_libs/index.pyx\u001b[0m in \u001b[0;36mpandas._libs.index.IndexEngine.get_loc\u001b[0;34m()\u001b[0m\n",
      "\u001b[0;32mpandas/_libs/hashtable_class_helper.pxi\u001b[0m in \u001b[0;36mpandas._libs.hashtable.PyObjectHashTable.get_item\u001b[0;34m()\u001b[0m\n",
      "\u001b[0;32mpandas/_libs/hashtable_class_helper.pxi\u001b[0m in \u001b[0;36mpandas._libs.hashtable.PyObjectHashTable.get_item\u001b[0;34m()\u001b[0m\n",
      "\u001b[0;31mKeyError\u001b[0m: 'BRK.A'",
      "\nThe above exception was the direct cause of the following exception:\n",
      "\u001b[0;31mKeyError\u001b[0m                                  Traceback (most recent call last)",
      "\u001b[0;32m<ipython-input-27-94af5c10b8a9>\u001b[0m in \u001b[0;36m<module>\u001b[0;34m\u001b[0m\n\u001b[1;32m      1\u001b[0m \u001b[0mtake_or\u001b[0m \u001b[0;34m=\u001b[0m \u001b[0;32mlambda\u001b[0m \u001b[0mx\u001b[0m\u001b[0;34m,\u001b[0m \u001b[0my\u001b[0m\u001b[0;34m:\u001b[0m \u001b[0mx\u001b[0m \u001b[0;32mif\u001b[0m \u001b[0mx\u001b[0m \u001b[0;34m>=\u001b[0m \u001b[0my\u001b[0m \u001b[0;32melse\u001b[0m \u001b[0my\u001b[0m\u001b[0;34m\u001b[0m\u001b[0;34m\u001b[0m\u001b[0m\n\u001b[0;32m----> 2\u001b[0;31m \u001b[0monehotdf\u001b[0m\u001b[0;34m[\u001b[0m\u001b[0;34m'BRK'\u001b[0m\u001b[0;34m]\u001b[0m \u001b[0;34m=\u001b[0m \u001b[0monehotdf\u001b[0m\u001b[0;34m[\u001b[0m\u001b[0;34m'BRK.A'\u001b[0m\u001b[0;34m]\u001b[0m\u001b[0;34m.\u001b[0m\u001b[0mcombine\u001b[0m\u001b[0;34m(\u001b[0m\u001b[0monehotdf\u001b[0m\u001b[0;34m[\u001b[0m\u001b[0;34m'BRK.B'\u001b[0m\u001b[0;34m]\u001b[0m\u001b[0;34m,\u001b[0m \u001b[0mtake_or\u001b[0m\u001b[0;34m)\u001b[0m\u001b[0;34m\u001b[0m\u001b[0;34m\u001b[0m\u001b[0m\n\u001b[0m\u001b[1;32m      3\u001b[0m \u001b[0monehotdf\u001b[0m\u001b[0;34m.\u001b[0m\u001b[0mdrop\u001b[0m\u001b[0;34m(\u001b[0m\u001b[0mcolumns\u001b[0m \u001b[0;34m=\u001b[0m \u001b[0;34m[\u001b[0m\u001b[0;34m'BRK.A'\u001b[0m\u001b[0;34m,\u001b[0m \u001b[0;34m'BRK.B'\u001b[0m\u001b[0;34m]\u001b[0m\u001b[0;34m,\u001b[0m \u001b[0minplace\u001b[0m \u001b[0;34m=\u001b[0m \u001b[0;32mTrue\u001b[0m\u001b[0;34m)\u001b[0m\u001b[0;34m\u001b[0m\u001b[0;34m\u001b[0m\u001b[0m\n\u001b[1;32m      4\u001b[0m \u001b[0monehotdf\u001b[0m\u001b[0;34m[\u001b[0m\u001b[0;34m'GOOG'\u001b[0m\u001b[0;34m]\u001b[0m \u001b[0;34m=\u001b[0m \u001b[0monehotdf\u001b[0m\u001b[0;34m[\u001b[0m\u001b[0;34m'GOOG'\u001b[0m\u001b[0;34m]\u001b[0m\u001b[0;34m.\u001b[0m\u001b[0mcombine\u001b[0m\u001b[0;34m(\u001b[0m\u001b[0monehotdf\u001b[0m\u001b[0;34m[\u001b[0m\u001b[0;34m'GOOGL'\u001b[0m\u001b[0;34m]\u001b[0m\u001b[0;34m,\u001b[0m \u001b[0mtake_or\u001b[0m\u001b[0;34m)\u001b[0m\u001b[0;34m\u001b[0m\u001b[0;34m\u001b[0m\u001b[0m\n\u001b[1;32m      5\u001b[0m \u001b[0monehotdf\u001b[0m\u001b[0;34m.\u001b[0m\u001b[0mdrop\u001b[0m\u001b[0;34m(\u001b[0m\u001b[0mcolumns\u001b[0m \u001b[0;34m=\u001b[0m \u001b[0;34m[\u001b[0m\u001b[0;34m'GOOG'\u001b[0m\u001b[0;34m,\u001b[0m \u001b[0;34m'GOOGL'\u001b[0m\u001b[0;34m]\u001b[0m\u001b[0;34m)\u001b[0m\u001b[0;34m\u001b[0m\u001b[0;34m\u001b[0m\u001b[0m\n",
      "\u001b[0;32m~/anaconda3/lib/python3.8/site-packages/pandas/core/frame.py\u001b[0m in \u001b[0;36m__getitem__\u001b[0;34m(self, key)\u001b[0m\n\u001b[1;32m   2900\u001b[0m             \u001b[0;32mif\u001b[0m \u001b[0mself\u001b[0m\u001b[0;34m.\u001b[0m\u001b[0mcolumns\u001b[0m\u001b[0;34m.\u001b[0m\u001b[0mnlevels\u001b[0m \u001b[0;34m>\u001b[0m \u001b[0;36m1\u001b[0m\u001b[0;34m:\u001b[0m\u001b[0;34m\u001b[0m\u001b[0;34m\u001b[0m\u001b[0m\n\u001b[1;32m   2901\u001b[0m                 \u001b[0;32mreturn\u001b[0m \u001b[0mself\u001b[0m\u001b[0;34m.\u001b[0m\u001b[0m_getitem_multilevel\u001b[0m\u001b[0;34m(\u001b[0m\u001b[0mkey\u001b[0m\u001b[0;34m)\u001b[0m\u001b[0;34m\u001b[0m\u001b[0;34m\u001b[0m\u001b[0m\n\u001b[0;32m-> 2902\u001b[0;31m             \u001b[0mindexer\u001b[0m \u001b[0;34m=\u001b[0m \u001b[0mself\u001b[0m\u001b[0;34m.\u001b[0m\u001b[0mcolumns\u001b[0m\u001b[0;34m.\u001b[0m\u001b[0mget_loc\u001b[0m\u001b[0;34m(\u001b[0m\u001b[0mkey\u001b[0m\u001b[0;34m)\u001b[0m\u001b[0;34m\u001b[0m\u001b[0;34m\u001b[0m\u001b[0m\n\u001b[0m\u001b[1;32m   2903\u001b[0m             \u001b[0;32mif\u001b[0m \u001b[0mis_integer\u001b[0m\u001b[0;34m(\u001b[0m\u001b[0mindexer\u001b[0m\u001b[0;34m)\u001b[0m\u001b[0;34m:\u001b[0m\u001b[0;34m\u001b[0m\u001b[0;34m\u001b[0m\u001b[0m\n\u001b[1;32m   2904\u001b[0m                 \u001b[0mindexer\u001b[0m \u001b[0;34m=\u001b[0m \u001b[0;34m[\u001b[0m\u001b[0mindexer\u001b[0m\u001b[0;34m]\u001b[0m\u001b[0;34m\u001b[0m\u001b[0;34m\u001b[0m\u001b[0m\n",
      "\u001b[0;32m~/anaconda3/lib/python3.8/site-packages/pandas/core/indexes/base.py\u001b[0m in \u001b[0;36mget_loc\u001b[0;34m(self, key, method, tolerance)\u001b[0m\n\u001b[1;32m   2895\u001b[0m                 \u001b[0;32mreturn\u001b[0m \u001b[0mself\u001b[0m\u001b[0;34m.\u001b[0m\u001b[0m_engine\u001b[0m\u001b[0;34m.\u001b[0m\u001b[0mget_loc\u001b[0m\u001b[0;34m(\u001b[0m\u001b[0mcasted_key\u001b[0m\u001b[0;34m)\u001b[0m\u001b[0;34m\u001b[0m\u001b[0;34m\u001b[0m\u001b[0m\n\u001b[1;32m   2896\u001b[0m             \u001b[0;32mexcept\u001b[0m \u001b[0mKeyError\u001b[0m \u001b[0;32mas\u001b[0m \u001b[0merr\u001b[0m\u001b[0;34m:\u001b[0m\u001b[0;34m\u001b[0m\u001b[0;34m\u001b[0m\u001b[0m\n\u001b[0;32m-> 2897\u001b[0;31m                 \u001b[0;32mraise\u001b[0m \u001b[0mKeyError\u001b[0m\u001b[0;34m(\u001b[0m\u001b[0mkey\u001b[0m\u001b[0;34m)\u001b[0m \u001b[0;32mfrom\u001b[0m \u001b[0merr\u001b[0m\u001b[0;34m\u001b[0m\u001b[0;34m\u001b[0m\u001b[0m\n\u001b[0m\u001b[1;32m   2898\u001b[0m \u001b[0;34m\u001b[0m\u001b[0m\n\u001b[1;32m   2899\u001b[0m         \u001b[0;32mif\u001b[0m \u001b[0mtolerance\u001b[0m \u001b[0;32mis\u001b[0m \u001b[0;32mnot\u001b[0m \u001b[0;32mNone\u001b[0m\u001b[0;34m:\u001b[0m\u001b[0;34m\u001b[0m\u001b[0;34m\u001b[0m\u001b[0m\n",
      "\u001b[0;31mKeyError\u001b[0m: 'BRK.A'"
     ]
    }
   ],
   "source": [
    "take_or = lambda x, y: x if x >= y else y\n",
    "onehotdf['BRK'] = onehotdf['BRK.A'].combine(onehotdf['BRK.B'], take_or)\n",
    "onehotdf.drop(columns = ['BRK.A', 'BRK.B'], inplace = True)\n",
    "onehotdf['GOOG'] = onehotdf['GOOG'].combine(onehotdf['GOOGL'], take_or)\n",
    "onehotdf.drop(columns = ['GOOG', 'GOOGL'], inplace = True)\n",
    "\n",
    "onehotdf.drop(columns = nonMatrix, inplace = True)\n"
   ]
  },
  {
   "cell_type": "code",
   "execution_count": 32,
   "metadata": {},
   "outputs": [],
   "source": [
    "onehotdf.drop(columns = nonMatrix, inplace = True)"
   ]
  },
  {
   "cell_type": "code",
   "execution_count": 35,
   "metadata": {},
   "outputs": [],
   "source": [
    "chorddict = onehotdf.sum(axis = 0).to_dict()"
   ]
  },
  {
   "cell_type": "code",
   "execution_count": 37,
   "metadata": {},
   "outputs": [],
   "source": [
    "chorddict = {key:val for key, val in chorddict.items() if val > 100}"
   ]
  },
  {
   "cell_type": "code",
   "execution_count": 39,
   "metadata": {},
   "outputs": [
    {
     "output_type": "execute_result",
     "data": {
      "text/plain": [
       "163"
      ]
     },
     "metadata": {},
     "execution_count": 39
    }
   ],
   "source": [
    "len(chorddict)"
   ]
  },
  {
   "cell_type": "code",
   "execution_count": 81,
   "metadata": {},
   "outputs": [],
   "source": [
    "chorddf = onehotdf[chorddict.keys()]"
   ]
  },
  {
   "cell_type": "code",
   "execution_count": 82,
   "metadata": {},
   "outputs": [],
   "source": [
    "chorddf = chorddf.T"
   ]
  },
  {
   "cell_type": "code",
   "execution_count": 84,
   "metadata": {},
   "outputs": [],
   "source": [
    "testdict = chorddf.dot(chorddf.T).sum().sort_values().to_dict()"
   ]
  },
  {
   "cell_type": "code",
   "execution_count": 88,
   "metadata": {},
   "outputs": [],
   "source": [
    "names = list(testdict.keys())[113:]"
   ]
  },
  {
   "cell_type": "code",
   "execution_count": 89,
   "metadata": {},
   "outputs": [],
   "source": [
    "chorddf = onehotdf[names]"
   ]
  },
  {
   "cell_type": "code",
   "execution_count": 90,
   "metadata": {},
   "outputs": [],
   "source": [
    "matrix = chorddf.corr()"
   ]
  },
  {
   "cell_type": "code",
   "execution_count": 91,
   "metadata": {},
   "outputs": [],
   "source": [
    "matrix[matrix < 0] = 0\n",
    "matrix[matrix == 1] = 0\n",
    "matrix = matrix.values.tolist()"
   ]
  },
  {
   "cell_type": "code",
   "execution_count": 92,
   "metadata": {},
   "outputs": [],
   "source": [
    "from chord import Chord\n"
   ]
  },
  {
   "cell_type": "code",
   "execution_count": 93,
   "metadata": {},
   "outputs": [],
   "source": [
    "Chord(matrix, names).to_html()"
   ]
  },
  {
   "cell_type": "code",
   "execution_count": null,
   "metadata": {},
   "outputs": [],
   "source": []
  }
 ]
}