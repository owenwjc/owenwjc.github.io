{
 "metadata": {
  "language_info": {
   "codemirror_mode": {
    "name": "ipython",
    "version": 3
   },
   "file_extension": ".py",
   "mimetype": "text/x-python",
   "name": "python",
   "nbconvert_exporter": "python",
   "pygments_lexer": "ipython3",
   "version": "3.8.3-final"
  },
  "orig_nbformat": 2,
  "kernelspec": {
   "name": "python3",
   "display_name": "Python 3"
  }
 },
 "nbformat": 4,
 "nbformat_minor": 2,
 "cells": [
  {
   "cell_type": "code",
   "execution_count": 1,
   "metadata": {},
   "outputs": [],
   "source": [
    "import pandas as pd\n",
    "from pymongo import MongoClient\n",
    "import json"
   ]
  },
  {
   "cell_type": "code",
   "execution_count": 4,
   "metadata": {},
   "outputs": [],
   "source": [
    "client = MongoClient('localhost', 27017)\n",
    "db = client.db\n",
    "comments = db.comments\n",
    "companies = db.companylist"
   ]
  },
  {
   "cell_type": "code",
   "execution_count": 5,
   "metadata": {},
   "outputs": [],
   "source": [
    "commentdf = pd.DataFrame(comments.find({'created_utc': {'$exists': 'true'}}))\n",
    "companydf = pd.DataFrame(companies.find())"
   ]
  },
  {
   "cell_type": "code",
   "execution_count": 6,
   "metadata": {},
   "outputs": [],
   "source": [
    "def get_len(list):\n",
    "    return len(list)"
   ]
  },
  {
   "cell_type": "code",
   "execution_count": 7,
   "metadata": {},
   "outputs": [],
   "source": [
    "commentdf['size'] = commentdf['stocks'].apply(get_len)"
   ]
  },
  {
   "cell_type": "code",
   "execution_count": 8,
   "metadata": {},
   "outputs": [],
   "source": [
    "stockdf = commentdf.loc[commentdf['size'] != 0]"
   ]
  },
  {
   "cell_type": "code",
   "execution_count": 31,
   "metadata": {},
   "outputs": [],
   "source": [
    "from sklearn.preprocessing import MultiLabelBinarizer\n",
    "s = stockdf['stocks']\n",
    "mlb = MultiLabelBinarizer()\n",
    "onehotdf = pd.DataFrame(mlb.fit_transform(s), columns = mlb.classes_, index = stockdf.index)"
   ]
  },
  {
   "cell_type": "code",
   "execution_count": 32,
   "metadata": {},
   "outputs": [],
   "source": [
    "connectionsdict = onehotdf.sum(axis = 1).to_dict()\n",
    "connectionsdict = {k:v for k, v in connectionsdict.items() if v != 1}\n",
    "\n",
    "onehotdf = onehotdf[onehotdf.index.isin(connectionsdict.keys())]"
   ]
  },
  {
   "cell_type": "code",
   "execution_count": 33,
   "metadata": {},
   "outputs": [],
   "source": [
    "take_or = lambda x, y: x if x >= y else y\n",
    "onehotdf['BRK.A'] = onehotdf['BRK.A'].combine(onehotdf['BRK.B'], take_or)\n",
    "onehotdf.drop(columns = ['BRK.A', 'BRK.B'], inplace = True)\n",
    "onehotdf['GOOG'] = onehotdf['GOOG'].combine(onehotdf['GOOGL'], take_or)\n",
    "onehotdf.drop(columns = ['GOOGL'], inplace = True)\n",
    "onehotdf['C'] = onehotdf['BLW'].combine(onehotdf['C'], take_or)\n",
    "onehotdf.drop(columns = ['BLW'], inplace = True)\n",
    "onehotdf['BMY'] = onehotdf['BMY~'].combine(onehotdf['BMY'], take_or)\n",
    "onehotdf.drop(columns = ['BMY~'], inplace = True)\n",
    "onehotdf['JPM'] = onehotdf['JPM'].combine(onehotdf['CCF'], take_or)\n",
    "onehotdf.drop(columns = ['CCF'], inplace = True)\n",
    "onehotdf['JPM'] = onehotdf['JPM'].combine(onehotdf['JP'], take_or)\n",
    "onehotdf.drop(columns = ['JP'], inplace = True)\n",
    "onehotdf['CMCSA'] = onehotdf['CMCSA'].combine(onehotdf['CCZ'], take_or)\n",
    "onehotdf.drop(columns = ['CCZ'], inplace = True)\n",
    "onehotdf['F'] = onehotdf['F'].combine(onehotdf['FORD'], take_or)\n",
    "onehotdf.drop(columns = ['FORD'], inplace = True)\n",
    "onehotdf['HD'] = onehotdf['HD'].combine(onehotdf['HOME'], take_or)\n",
    "onehotdf.drop(columns = ['HOME'], inplace = True)\n",
    "onehotdf['HP'] = onehotdf['HP'].combine(onehotdf['HPE'], take_or)\n",
    "onehotdf.drop(columns = ['HPE'], inplace = True)\n",
    "onehotdf['HP'] = onehotdf['HP'].combine(onehotdf['HPQ'], take_or)\n",
    "onehotdf.drop(columns = ['HPQ'], inplace = True)\n",
    "onehotdf['IEX'] = onehotdf['IEX'].combine(onehotdf['IDEX'], take_or)\n",
    "onehotdf.drop(columns = ['IDEX'], inplace = True)\n",
    "onehotdf['LTRPA'] = onehotdf['LTRPA'].combine(onehotdf['LTRPB'], take_or)\n",
    "onehotdf.drop(columns = ['LTRPB'], inplace = True)\n",
    "onehotdf['RDS.A'] = onehotdf['RDS.A'].combine(onehotdf['RDS.B'], take_or)\n",
    "onehotdf.drop(columns = ['RDS.B'], inplace = True)\n",
    "onehotdf['SPY'] = onehotdf['SPY'].combine(onehotdf['SPXC'], take_or)\n",
    "onehotdf.drop(columns = ['SPXC'], inplace = True)\n",
    "onehotdf['STZ'] = onehotdf['STZ'].combine(onehotdf['STZ.B'], take_or)\n",
    "onehotdf.drop(columns = ['STZ.B'], inplace = True)\n",
    "onehotdf['TAP'] = onehotdf['TAP'].combine(onehotdf['TAP.A'], take_or)\n",
    "onehotdf.drop(columns = ['TAP.A'], inplace = True)\n",
    "onehotdf['CMCSA'] = onehotdf['CMCSA'].combine(onehotdf['UVV'], take_or)\n",
    "onehotdf.drop(columns = ['UVV'], inplace = True)\n",
    "onehotdf['WF'] = onehotdf['WF'].combine(onehotdf['WFC'], take_or)\n",
    "onehotdf.drop(columns = ['WFC'], inplace = True)"
   ]
  },
  {
   "cell_type": "code",
   "execution_count": 37,
   "metadata": {},
   "outputs": [],
   "source": [
    "nonMatrix = ['AA', 'ABC', 'ACH', 'ACT', 'ADP', 'ADS', 'AG', 'AGE', 'AGO', 'AHH', 'AIN', 'AIR', 'AIRT', 'AL', 'ALL', 'ALOT', 'AM', 'AN', 'ANY','AONE', 'AOS', 'AP', 'APG', 'API', 'AR', 'AT', 'AU', 'AUTO', 'BAH', 'BAM', 'BAND', 'BB', 'BBC', 'BBQ', 'BE', 'BEAT', 'BEN', 'BEST', 'BIG', 'BILL', 'BIT', 'BK', 'BKE', 'BLL', 'BLUE', 'BOOM', 'BR', 'BRC', 'BRO', 'BY', 'CALM', 'CARE', 'CBD', 'CBOE', 'CC', 'CCS', 'CD', 'CEO', 'CFA', 'CIA', 'COLD', 'COO', 'CORE', 'CPA', 'CRY', 'CS', 'CSPI', 'CUZ', 'DAIO', 'DARE', 'DDS', 'DE', 'DL', 'DMS', 'DNOW', 'DOC', 'DOOR', 'DS', 'DTE', 'DUO', 'EAST', 'EAT', 'EC', 'ED', 'EIX', 'ELSE', 'ERII', 'ES', 'ET', 'ETN', 'EVER', 'EW', 'EXP', 'EXPR', 'EYE', 'FAM', 'FANG', 'FARM', 'FAST', 'FAT', 'FDS', 'FE', 'FIVE', 'FIX', 'FL', 'FLOW', 'FLY', 'FNB', 'FOR', 'FR', 'FREE', 'FSD', 'FT', 'FTC', 'FUND', 'GAIN', 'GDP', 'GES', 'GF', 'GHM', 'GIM', 'GL', 'GLAD', 'GLG', 'GOLF', 'GT', 'HA', 'HALO', 'HAS', 'HBMD', 'HE', 'HEAR', 'HERD', 'HERO', 'HES', 'HI', 'HOL', 'HOPE', 'HR', 'ICBK', 'ICE', 'III', 'INFI', 'INFO', 'IP', 'IQ', 'IR', 'IRL', 'IROQ', 'IRS', 'IT', 'ITT', 'JAZZ', 'JG', 'JOB', 'JOBS', 'JOE', 'KEN', 'KIDS', 'KIM', 'LAKE', 'LAND', 'LE', 'LEE', 'LEG', 'LEO', 'LIFE', 'LIVE', 'LN', 'LOAN', 'LOW', 'LPTX', 'MAC', 'MAIN', 'MAN', 'MC', 'MD', 'MEN', 'MET', 'MIC', 'MIN', 'MIND', 'MMT', 'MN', 'MNDO', 'MOD', 'MODN', 'MT', 'MTB', 'MUH', 'NC', 'NEO', 'NEXT', 'NG', 'NGL', 'NICE', 'NICK', 'NK', 'NOW', 'NSA', 'NWS', 'NaN', 'OC', 'OFC', 'OI', 'OIBR.C', 'OLD', 'ON', 'ONE', 'OPBK', 'OR', 'OTLK', 'OUT', 'PBR', 'PBR.A', 'PEAK', 'PH', 'PHD', 'PLAN', 'PLUS', 'PM', 'POOL', 'POST', 'PPL', 'PPT', 'PRO', 'PRT', 'PS', 'PSA', 'PT', 'PUMP', 'QTWO', 'QUAD', 'RCKT', 'RE', 'REAL', 'RH', 'RICK', 'RIG', 'RILY', 'RING', 'RNA', 'ROAD', 'ROCK', 'ROLL', 'RUN', 'SALT', 'SB', 'SC', 'SD', 'SF', 'SGU', 'SHIP', 'SIRI', 'SJW', 'SKY', 'SMH', 'SNP', 'SO', 'SON', 'SPGI', 'ST', 'STAY', 'STEP', 'SUM', 'TD', 'TDA', 'TDS', 'TEAM', 'TECH', 'TELL', 'THC', 'THO', 'TIMB$', 'TISI', 'TM', 'TOWN', 'TR', 'TREE', 'TRUE', 'TTMI', 'TU', 'TURN', 'TV', 'TW', 'TX', 'TY', 'TYL', 'UE', 'UI', 'UN', 'USB', 'UTF', 'VC', 'VERY', 'WAT', 'WH', 'WIFI', 'WINS', 'WIRE', 'WM', 'WOOD', 'XYF', 'STAR          ']"
   ]
  },
  {
   "cell_type": "code",
   "execution_count": 38,
   "metadata": {},
   "outputs": [],
   "source": [
    "onehotdf.drop(columns = nonMatrix, inplace = True)"
   ]
  },
  {
   "cell_type": "code",
   "execution_count": 60,
   "metadata": {},
   "outputs": [],
   "source": [
    "companydict = onehotdf.sum(axis = 0).to_dict()\n",
    "companydict = {k:v for k, v in companydict.items() if v < 25}\n",
    "\n",
    "onehotdf.drop(columns = companydict.keys(), inplace= True)"
   ]
  },
  {
   "cell_type": "code",
   "execution_count": 62,
   "metadata": {},
   "outputs": [],
   "source": [
    "onehotdf = onehotdf.T"
   ]
  },
  {
   "cell_type": "code",
   "execution_count": 63,
   "metadata": {},
   "outputs": [],
   "source": [
    "from scipy import sparse\n",
    "\n",
    "matrix = onehotdf.to_numpy()\n",
    "sparsematrix = sparse.csr_matrix(matrix)\n",
    "\n",
    "adjacencyframe = pd.DataFrame(sparsematrix.dot(onehotdf.T), columns = onehotdf.index)\n",
    "adjacencyframe.set_index(onehotdf.index, inplace= True)"
   ]
  },
  {
   "cell_type": "code",
   "execution_count": 65,
   "metadata": {},
   "outputs": [],
   "source": [
    "import numpy as np\n",
    "adjacencyframe.values[[np.arange(adjacencyframe.shape[0])]*2] = 0"
   ]
  },
  {
   "cell_type": "code",
   "execution_count": 69,
   "metadata": {},
   "outputs": [],
   "source": [
    "edgelist = adjacencyframe.stack().reset_index()\n",
    "\n",
    "edgelist.drop(edgelist.loc[edgelist[0] == 0].index, inplace = True)\n",
    "edgelist.reset_index(drop=True, inplace=True)\n",
    "edgelist.columns = ['source', 'target', 'weight']"
   ]
  },
  {
   "cell_type": "code",
   "execution_count": 79,
   "metadata": {},
   "outputs": [],
   "source": [
    "namesdf = pd.DataFrame(columns = ['id'])\n",
    "namesdf['id'] = list(adjacencyframe.columns)\n",
    "\n",
    "'''namesdf['weight'] = list(onehotdf.sum(axis = 1))\n",
    "mergeframe = companydf[['Symbol', 'Industry']]\n",
    "mergeframe = pd.merge(namesdf, mergeframe, left_on='id', right_on='Symbol', how = 'left')\n",
    "mergeframe.drop_duplicates('id', ignore_index=True, inplace=True)\n",
    "mergeframe.drop(columns = ['Symbol'], inplace=True)'''"
   ]
  },
  {
   "cell_type": "code",
   "execution_count": 164,
   "metadata": {},
   "outputs": [],
   "source": [
    "jsondict = {}\n",
    "jsondict['links'] = edgelist.to_dict('records')\n",
    "jsondict['names'] = mergeframe.to_dict('records')"
   ]
  },
  {
   "cell_type": "code",
   "execution_count": 165,
   "metadata": {},
   "outputs": [],
   "source": [
    "with open('data.json', 'w') as fp:\n",
    "    json.dump(jsondict, fp)"
   ]
  },
  {
   "source": [
    "Link max weight 1731\n",
    "Link min weight 1\n",
    "Edge max size 8846\n",
    "edgee min size 25"
   ],
   "cell_type": "markdown",
   "metadata": {}
  },
  {
   "cell_type": "code",
   "execution_count": 1,
   "metadata": {},
   "outputs": [],
   "source": [
    "import json"
   ]
  },
  {
   "cell_type": "code",
   "execution_count": 4,
   "metadata": {},
   "outputs": [],
   "source": [
    "with open('data.json') as json_file: \n",
    "    data = json.load(json_file) "
   ]
  },
  {
   "cell_type": "code",
   "execution_count": 9,
   "metadata": {},
   "outputs": [
    {
     "output_type": "error",
     "ename": "TypeError",
     "evalue": "list indices must be integers or slices, not str",
     "traceback": [
      "\u001b[0;31m---------------------------------------------------------------------------\u001b[0m",
      "\u001b[0;31mTypeError\u001b[0m                                 Traceback (most recent call last)",
      "\u001b[0;32m<ipython-input-9-437a93997c0d>\u001b[0m in \u001b[0;36m<module>\u001b[0;34m\u001b[0m\n\u001b[0;32m----> 1\u001b[0;31m \u001b[0mset\u001b[0m\u001b[0;34m(\u001b[0m\u001b[0mlist\u001b[0m\u001b[0;34m(\u001b[0m\u001b[0mdata\u001b[0m\u001b[0;34m[\u001b[0m\u001b[0;34m'nodes'\u001b[0m\u001b[0;34m]\u001b[0m\u001b[0;34m[\u001b[0m\u001b[0;34m'Industry'\u001b[0m\u001b[0;34m]\u001b[0m\u001b[0;34m.\u001b[0m\u001b[0mvalues\u001b[0m\u001b[0;34m)\u001b[0m\u001b[0;34m)\u001b[0m\u001b[0;34m\u001b[0m\u001b[0;34m\u001b[0m\u001b[0m\n\u001b[0m",
      "\u001b[0;31mTypeError\u001b[0m: list indices must be integers or slices, not str"
     ]
    }
   ],
   "source": [
    "set(list(data['nodes']['Industry'].values))"
   ]
  },
  {
   "cell_type": "code",
   "execution_count": 20,
   "metadata": {},
   "outputs": [],
   "source": [
    "industrylist = []"
   ]
  },
  {
   "cell_type": "code",
   "execution_count": 22,
   "metadata": {},
   "outputs": [],
   "source": [
    "for i in range(len(data['nodes'])):\n",
    "    industrylist.append(data['nodes'][i]['Industry'])"
   ]
  },
  {
   "cell_type": "code",
   "execution_count": 24,
   "metadata": {},
   "outputs": [
    {
     "output_type": "execute_result",
     "data": {
      "text/plain": [
       "{'Advertising',\n",
       " 'Aerospace',\n",
       " 'Agricultural Chemicals',\n",
       " 'Air Freight/Delivery Services',\n",
       " 'Apparel',\n",
       " 'Auto Manufacturing',\n",
       " 'Automotive Aftermarket',\n",
       " 'Beverages (Production/Distribution)',\n",
       " 'Biotechnology: Biological Products (No Diagnostic Substances)',\n",
       " 'Biotechnology: In Vitro & In Vivo Diagnostic Substances',\n",
       " 'Broadcasting',\n",
       " 'Business Services',\n",
       " 'Catalog/Specialty Distribution',\n",
       " 'Clothing/Shoe/Accessory Stores',\n",
       " 'Commercial Banks',\n",
       " 'Computer Communications Equipment',\n",
       " 'Computer Manufacturing',\n",
       " 'Computer Software: Prepackaged Software',\n",
       " 'Computer Software: Programming, Data Processing',\n",
       " 'Computer peripheral equipment',\n",
       " 'Construction/Ag Equipment/Trucks',\n",
       " 'Consumer Electronics/Appliances',\n",
       " 'Consumer Electronics/Video Chains',\n",
       " 'Department/Specialty Retail Stores',\n",
       " 'EDP Services',\n",
       " 'Electric Utilities: Central',\n",
       " 'Electrical Products',\n",
       " 'Electronic Components',\n",
       " 'Electronics Distribution',\n",
       " 'Farming/Seeds/Milling',\n",
       " 'Finance: Consumer Services',\n",
       " 'Fluid Controls',\n",
       " 'Food Chains',\n",
       " 'Food Distributors',\n",
       " 'Home Furnishings',\n",
       " 'Hotels/Resorts',\n",
       " 'Industrial Machinery/Components',\n",
       " 'Industrial Specialties',\n",
       " 'Integrated oil Companies',\n",
       " 'Investment Bankers/Brokers/Service',\n",
       " 'Major Banks',\n",
       " 'Major Pharmaceuticals',\n",
       " 'Marine Transportation',\n",
       " 'Meat/Poultry/Fish',\n",
       " 'Medical Specialities',\n",
       " 'Medical/Dental Instruments',\n",
       " 'Medical/Nursing Services',\n",
       " 'Military/Government/Technical',\n",
       " 'Motor Vehicles',\n",
       " 'Movies/Entertainment',\n",
       " 'Newspapers/Magazines',\n",
       " 'Oil & Gas Production',\n",
       " 'Oilfield Services/Equipment',\n",
       " 'Ordnance And Accessories',\n",
       " 'Other Consumer Services',\n",
       " 'Other Specialty Stores',\n",
       " 'Package Goods/Cosmetics',\n",
       " 'Packaged Foods',\n",
       " 'Power Generation',\n",
       " 'Precious Metals',\n",
       " 'Property-Casualty Insurers',\n",
       " 'RETAIL: Building Materials',\n",
       " 'Radio And Television Broadcasting And Communications Equipment',\n",
       " 'Real Estate',\n",
       " 'Real Estate Investment Trusts',\n",
       " 'Rental/Leasing Companies',\n",
       " 'Restaurants',\n",
       " 'Savings Institutions',\n",
       " 'Semiconductors',\n",
       " 'Services-Misc. Amusement & Recreation',\n",
       " 'Shoe Manufacturing',\n",
       " 'Specialty Chemicals',\n",
       " 'Stock Market Index',\n",
       " 'Telecommunications Equipment',\n",
       " 'Television Services',\n",
       " 'Transportation Services',\n",
       " 'Trucking Freight/Courier Services'}"
      ]
     },
     "metadata": {},
     "execution_count": 24
    }
   ],
   "source": [
    "set(industrylist)"
   ]
  },
  {
   "cell_type": "code",
   "execution_count": null,
   "metadata": {},
   "outputs": [],
   "source": [
    "{'Auto': {''}}"
   ]
  },
  {
   "cell_type": "code",
   "execution_count": 25,
   "metadata": {},
   "outputs": [],
   "source": [
    "testdict = {\"Auto\": {\"Auto Manufacturing\", \"Automotive Aftermarket\", \"Motor Vehicles\"},\n",
    "  \"Travel\": {\"Hotels/Resorts\", \"Rental/Leasing Companies\", \"Marine Transportation\", \"Transportation Services\"},\n",
    "  \"Food Distribution\": {\"Food Chains\", \"Beverages (Production/Distribution)\", \"Food Distributors\", \"Meat/Poultry/Fish\", \"Packaged Foods\"},\n",
    "  \"Agriculture\": {\"Agricultural Chemicals\", \"Construction/Ag Equipment/Trucks\", \"Farming/Seeds/Milling\", \"Industrial Machinery/Components\"},\n",
    "  \"Media\": {\"Movies/Entertainment\", \"Broadcasting\", \"Newspapers/Magazines\", \"Television Services\", \"Services-Misc. Amusement & Recreation\"},\n",
    "  \"Tech\": {\"Advertising\", \"Computer Manufacturing\",\n",
    "    \"Computer Software: Prepackaged Software\",\n",
    "    \"Computer Software: Programming, Data Processing\",\n",
    "    \"Computer peripheral equipment\",\"Computer Communications Equipment\",\n",
    "     \"Consumer Electronics/Appliances\", \"Consumer Electronics/Video Chains\",\n",
    "     \"Semiconductors\", \"Radio And Television Broadcasting And Communications Equipment\", \n",
    "     \"Telecommunications Equipment\", \"EDP Services\", \"Electrical Products\", \"Electronic Components\",\n",
    "    \"Electronics Distribution\"},\n",
    "  \"Aerospace\": {\"Air Freight/Delivery Services\", \"Aerospace\", \"Military/Government/Technical\"},\n",
    "  \"Stock Market Index\": {\"Stock Market Index\"},\n",
    "  \"Pharm\": {\"Specialty Chemicals\", \"Industrial Specialties\", \"Major Pharmaceuticals\",\n",
    "        \"Biotechnology: Biological Products (No Diagnostic Substances)\", \"Biotechnology: In Vitro & In Vivo Diagnostic Substances\",\n",
    "        \"Medical Specialities\",\n",
    "        \"Medical/Dental Instruments\",\n",
    "        \"Medical/Nursing Services\"},\n",
    "  \"Services\": {\"Restaurants\", \"Catalog/Specialty Distribution\", \"Other Consumer Services\", \"Trucking Freight/Courier Services\"},\n",
    "  \"Goods\": {\"Shoe Manufacturing\", \"Apparel\", \"Ordnance And Accessories\", \"Package Goods/Cosmetics\"},\n",
    "  \"Finance\": {\"Savings Institutions\", \"Business Services\", \"Commercial Banks\", \"Finance: Consumer Services\", \"Investment Bankers/Brokers/Service\", \"Major Banks\"},\n",
    "  \"Real Estate\": {\"Real Estate Investment Trusts\", \"Real Estate\", \"Property-Casualty Insurers\"},\n",
    "  \"Department Stores\": {\"RETAIL: Building Materials\", \"Clothing/Shoe/Accessory Stores\", \"Department/Specialty Retail Stores\", \n",
    "        \"Home Furnishings\", \"Other Specialty Stores\"},\n",
    "  \"Utilities\": {\"Electric Utilities: Central\", \"Fluid Controls\", \"Power Generation\"},\n",
    "  \"Oil\": {\"Integrated oil Companies\", \n",
    "        \"Oil & Gas Production\",\n",
    "        \"Oilfield Services/Equipment\",\"Precious Metals\"}}"
   ]
  },
  {
   "cell_type": "code",
   "execution_count": 28,
   "metadata": {},
   "outputs": [
    {
     "output_type": "execute_result",
     "data": {
      "text/plain": [
       "['Auto',\n",
       " 'Travel',\n",
       " 'Food distribution',\n",
       " 'Agriculture',\n",
       " 'Media',\n",
       " 'Tech',\n",
       " 'Aerospace',\n",
       " 'Stock Market Index',\n",
       " 'Pharm',\n",
       " 'Services',\n",
       " 'Goods',\n",
       " 'Finance',\n",
       " 'Real Estate',\n",
       " 'Department Stores',\n",
       " 'Utilities',\n",
       " 'Oil']"
      ]
     },
     "metadata": {},
     "execution_count": 28
    }
   ],
   "source": [
    "list(testdict.keys())"
   ]
  },
  {
   "cell_type": "code",
   "execution_count": null,
   "metadata": {},
   "outputs": [],
   "source": [
    "{'Auto': rgb(175, 214, 247),\n",
    "'Travel': rgb(194, 182, 212),\n",
    "'Food distribution': rgb(224, 217, 215),\n",
    " 'Agriculture': rgb(180, 206, 179),\n",
    " 'Media': rgb(228, 216, 185),\n",
    " 'Tech': rgb(223, 190, 175),\n",
    " 'Aerospace': rgb(139, 116, 105),\n",
    " 'Stock Market Index': rgb(105, 125, 139),\n",
    " 'Pharm': rgb(139, 105, 134),\n",
    " 'Services': rgb(177, 140, 171),\n",
    " 'Goods': rgb(177, 158, 140),\n",
    " 'Finance': rgb(160, 218, 163),\n",
    " 'Real Estate': rgb(164, 172, 206),\n",
    " 'Department Stores': rgb(112, 106, 146),\n",
    " 'Utilities': rgb(131, 125, 167),\n",
    " 'Oil': rgb(125, 155, 167)}"
   ]
  }
 ]
}