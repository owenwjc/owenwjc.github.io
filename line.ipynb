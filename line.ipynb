{
 "metadata": {
  "language_info": {
   "codemirror_mode": {
    "name": "ipython",
    "version": 3
   },
   "file_extension": ".py",
   "mimetype": "text/x-python",
   "name": "python",
   "nbconvert_exporter": "python",
   "pygments_lexer": "ipython3",
   "version": "3.8.3-final"
  },
  "orig_nbformat": 2,
  "kernelspec": {
   "name": "python3",
   "display_name": "Python 3"
  }
 },
 "nbformat": 4,
 "nbformat_minor": 2,
 "cells": [
  {
   "cell_type": "code",
   "execution_count": 1,
   "metadata": {},
   "outputs": [],
   "source": [
    "import pandas as pd\n",
    "import yfinance as yf\n",
    "import pymongo\n",
    "import time\n",
    "import datetime\n",
    "\n",
    "from datetime import datetime, timedelta\n",
    "from pymongo import MongoClient"
   ]
  },
  {
   "cell_type": "code",
   "execution_count": 2,
   "metadata": {},
   "outputs": [],
   "source": [
    "tickersdf = yf.download(\"WMT NKLA AMZN DIS FB SPCE BA AMD MSFT AAPL TSLA SPY\", start = '2019-10-01', end = '2020-10-03', progress = False)\n",
    "client = MongoClient('localhost', 27017)\n",
    "db = client.db\n",
    "comments = db.comments\n",
    "\n",
    "commentdf = pd.DataFrame.from_records(comments.find({'created_utc': {'$exists': True}}))\n",
    "commentdf.drop(commentdf[commentdf['sentiment'] == 0].index, inplace=True)\n",
    "commentdf.reset_index(drop = True, inplace = True)"
   ]
  },
  {
   "cell_type": "code",
   "execution_count": 3,
   "metadata": {},
   "outputs": [],
   "source": [
    "spydf = yf.download('SPY', start = '2019-10-01', end = '2020-10-03', progress = False)\n",
    "dayBins = list(spydf.reset_index()['Date'])\n",
    "commentdf['created_utc'] = [pd.Timestamp(datetime.utcfromtimestamp(time)) for time in commentdf['created_utc']]"
   ]
  },
  {
   "cell_type": "code",
   "execution_count": 4,
   "metadata": {},
   "outputs": [],
   "source": [
    "commentdf['days'] = pd.cut(commentdf['created_utc'], bins = dayBins, labels=spydf.reset_index()['Date'][0:254])"
   ]
  },
  {
   "cell_type": "code",
   "execution_count": 263,
   "metadata": {},
   "outputs": [],
   "source": [
    "data = pd.pivot_table(commentdf, values = 'id', index = ['days'], columns = ['sentiment'], aggfunc = 'count')\n",
    "data.columns.name = ''\n",
    "data.reset_index(inplace= True)"
   ]
  },
  {
   "cell_type": "code",
   "execution_count": 6,
   "metadata": {},
   "outputs": [],
   "source": [
    "tickersdf = tickersdf.stack().swaplevel(0,1).drop(columns = ['Close', 'High', 'Low', 'Volume','Adj Close'])"
   ]
  },
  {
   "cell_type": "code",
   "execution_count": 264,
   "metadata": {},
   "outputs": [],
   "source": [
    "data['tot'] = data['bullish'] + data['bearish']\n",
    "data['avg'] = (data['bullish']/data['tot']).rolling(5).mean()\n",
    "data['days'] = data['days'].astype('datetime64[ns]')\n",
    "\n",
    "uploaddf = tickersdf.loc['SPY'].merge(data, left_index = True, right_on = 'days')\n",
    "uploaddf['days'] = uploaddf['days'].apply(lambda x: x.value)\n",
    "uploaddf.set_index('days', inplace = True)"
   ]
  },
  {
   "cell_type": "code",
   "execution_count": 265,
   "metadata": {},
   "outputs": [],
   "source": [
    "lineDict['SPY'] = uploaddf.to_dict('index')"
   ]
  },
  {
   "cell_type": "code",
   "execution_count": null,
   "metadata": {},
   "outputs": [],
   "source": []
  },
  {
   "cell_type": "code",
   "execution_count": 217,
   "metadata": {},
   "outputs": [],
   "source": [
    "stocklist = ['WMT', 'NKLA', 'AMZN', 'DIS', 'FB', 'SPCE', 'BA', 'AMD', 'MSFT', 'AAPL', 'TSLA']"
   ]
  },
  {
   "cell_type": "code",
   "execution_count": 262,
   "metadata": {},
   "outputs": [
    {
     "output_type": "stream",
     "name": "stdout",
     "text": [
      "WMT\n",
      "NKLA\n",
      "AMZN\n",
      "DIS\n",
      "FB\n",
      "SPCE\n",
      "BA\n",
      "AMD\n",
      "MSFT\n",
      "AAPL\n",
      "TSLA\n"
     ]
    }
   ],
   "source": [
    "for nextStock in stocklist:\n",
    "    print(nextStock)\n",
    "    newdatadf = commentdf.loc[pd.DataFrame(commentdf['stocks'].tolist()).isin([nextStock]).values]\n",
    "\n",
    "    data = pd.pivot_table(newdatadf, values = 'id', index = ['days'], columns = ['sentiment'], aggfunc = 'count')\n",
    "    data.columns.name = ''\n",
    "    data.reset_index(inplace= True)\n",
    "\n",
    "    data['tot'] = data['bullish'] + data['bearish']\n",
    "    data['avg'] = (data['bullish']/data['tot']).rolling(3).mean()\n",
    "    data['days'] = data['days'].astype('datetime64[ns]')\n",
    "\n",
    "    data.fillna(0, inplace=True)\n",
    "\n",
    "    data['tot'] = data['bullish'] + data['bearish']\n",
    "    data['avg'] = (data['bullish']/data['tot']).rolling(3).mean()\n",
    "    data['days'] = data['days'].astype('datetime64[ns]')\n",
    "\n",
    "    uploaddf = tickersdf.loc[nextStock].merge(data, left_index = True, right_on = 'days')\n",
    "    uploaddf['days'] = uploaddf['days'].apply(lambda x: x.value)\n",
    "    uploaddf.set_index('days', inplace = True)\n",
    "\n",
    "    lineDict[nextStock] = uploaddf.to_dict('index')"
   ]
  },
  {
   "cell_type": "code",
   "execution_count": 266,
   "metadata": {},
   "outputs": [
    {
     "output_type": "execute_result",
     "data": {
      "text/plain": [
       "dict_keys(['SPY', 'WMT', 'NKLA', 'AMZN', 'FB', 'SPCE', 'BA', 'MSFT', 'TSLA', 'AMD', 'AAPL', 'DIS'])"
      ]
     },
     "metadata": {},
     "execution_count": 266
    }
   ],
   "source": [
    "lineDict.keys()"
   ]
  },
  {
   "cell_type": "code",
   "execution_count": null,
   "metadata": {},
   "outputs": [],
   "source": [
    "\"WMT NKLA AMZN DIS FB SPCE BA AMD MSFT AAPL TSLA SPY\""
   ]
  },
  {
   "cell_type": "code",
   "execution_count": 267,
   "metadata": {},
   "outputs": [],
   "source": [
    "import json\n",
    "with open('result.json', 'w') as fp:\n",
    "    json.dump(lineDict, fp)"
   ]
  },
  {
   "cell_type": "code",
   "execution_count": null,
   "metadata": {},
   "outputs": [],
   "source": []
  }
 ]
}